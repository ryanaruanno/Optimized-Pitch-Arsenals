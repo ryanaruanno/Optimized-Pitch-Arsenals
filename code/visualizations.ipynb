{
 "cells": [
  {
   "cell_type": "markdown",
   "id": "fa84c23f-85e4-4bb3-abbc-9f2523d27f11",
   "metadata": {},
   "source": [
    "# Data Visualization"
   ]
  },
  {
   "cell_type": "markdown",
   "id": "a51729f3-6670-4396-be0f-7d4803589810",
   "metadata": {
    "tags": []
   },
   "source": [
    "### Imports"
   ]
  },
  {
   "cell_type": "code",
   "execution_count": 1,
   "id": "823f7111-7d36-4595-88b7-5dc1c3a018ef",
   "metadata": {},
   "outputs": [],
   "source": [
    "import os\n",
    "import joblib\n",
    "import pandas as pd\n",
    "import numpy as np\n",
    "import matplotlib.pyplot as plt\n",
    "import seaborn as sns\n",
    "import plotly.express as px\n",
    "plt.style.use(\"fivethirtyeight\")\n",
    "sns.set_theme(rc = {\"figure.max_open_warning\": 0})"
   ]
  },
  {
   "cell_type": "code",
   "execution_count": 2,
   "id": "87c504b6-5234-4446-b053-5407de4c8187",
   "metadata": {},
   "outputs": [],
   "source": [
    "class PitchLeaderboard:\n",
    "    \n",
    "    def __init__(self, file, pitch_type, category, length, qualifier_mark, orientation):\n",
    "        \n",
    "        \"\"\"\n",
    "        Initialize the Leaderboard class.\n",
    "\n",
    "        Parameters:\n",
    "            pitch_type (str): The column name to be used for the pitch type of the leaderboard.\n",
    "            category (str): The column name to be used for sorting the leaderboard.\n",
    "            length (int): The number of top records to display in the leaderboard.\n",
    "            qualifier_mark (int): The minimum pitch count required to qualify for the leaderboard.\n",
    "            orientation (bool): Set True for ascending sorting, False for descending sorting.\n",
    "        \"\"\"\n",
    "        \n",
    "        self.file = file\n",
    "        self.pitch_type = pitch_type\n",
    "        self.category = category\n",
    "        self.length = length\n",
    "        self.qualifier_mark = qualifier_mark\n",
    "        self.orientation = orientation\n",
    "        \n",
    "    def generate_leaderboard(self):\n",
    "        \n",
    "        \"\"\"\n",
    "        Generate the leaderboard using the provided DataFrame.\n",
    "\n",
    "        Returns:\n",
    "            pd.DataFrame: The sorted leaderboard DataFrame.\n",
    "        \"\"\"\n",
    "        \n",
    "        # Create the DataFrame for Statistic Extraction\n",
    "        df = pd.read_feather(self.file)\n",
    "        df.loc[:, \"pitch_count\"] = df.groupby([\"player_name\", \"pitch_type\"])[\"player_name\"].transform(\"count\")\n",
    "        \n",
    "        if self.pitch_type is not None:\n",
    "            df = df[df[\"pitch_type\"] == self.pitch_type].reset_index(drop = True)\n",
    "        \n",
    "        # Create a Copy of the DataFrame and Group By player_name and pitch_type, Calculating the Mean.\n",
    "        df_leaderboard = df.copy(deep = True).groupby([\"player_name\", \"pitch_type\"]).mean(numeric_only = True)\n",
    "\n",
    "        # Filter the leaderboard Based on the ualifier_mark and Sort by the Specified Category.\n",
    "        filtered_leaderboard = df_leaderboard[df_leaderboard[\"pitch_count\"] >= self.qualifier_mark]\n",
    "        sorted_leaderboard = filtered_leaderboard.sort_values([self.category], ascending = self.orientation)\n",
    "        \n",
    "        if self.category.endswith(\"%\"):\n",
    "            sorted_leaderboard[self.category] = sorted_leaderboard[self.category].astype(float).round(3)\n",
    "        elif self.category.endswith(\"+\"):\n",
    "            sorted_leaderboard[self.category] = sorted_leaderboard[self.category].astype(float).round(3)\n",
    "\n",
    "        # Return the leaderboard.\n",
    "        return pd.DataFrame(sorted_leaderboard.head(self.length)[self.category])"
   ]
  },
  {
   "cell_type": "code",
   "execution_count": 3,
   "id": "94a44c50-8085-4bcc-afe5-94bc38ab6ee6",
   "metadata": {},
   "outputs": [
    {
     "data": {
      "text/html": [
       "<div>\n",
       "<style scoped>\n",
       "    .dataframe tbody tr th:only-of-type {\n",
       "        vertical-align: middle;\n",
       "    }\n",
       "\n",
       "    .dataframe tbody tr th {\n",
       "        vertical-align: top;\n",
       "    }\n",
       "\n",
       "    .dataframe thead th {\n",
       "        text-align: right;\n",
       "    }\n",
       "</style>\n",
       "<table border=\"1\" class=\"dataframe\">\n",
       "  <thead>\n",
       "    <tr style=\"text-align: right;\">\n",
       "      <th></th>\n",
       "      <th></th>\n",
       "      <th>Stuff+</th>\n",
       "    </tr>\n",
       "    <tr>\n",
       "      <th>player_name</th>\n",
       "      <th>pitch_type</th>\n",
       "      <th></th>\n",
       "    </tr>\n",
       "  </thead>\n",
       "  <tbody>\n",
       "    <tr>\n",
       "      <th>Kelly, Carson</th>\n",
       "      <th>FF</th>\n",
       "      <td>50.503</td>\n",
       "    </tr>\n",
       "    <tr>\n",
       "      <th>Phillips, Brett</th>\n",
       "      <th>FF</th>\n",
       "      <td>57.057</td>\n",
       "    </tr>\n",
       "    <tr>\n",
       "      <th>Alberto, Hanser</th>\n",
       "      <th>FF</th>\n",
       "      <td>58.324</td>\n",
       "    </tr>\n",
       "    <tr>\n",
       "      <th>Ashby, Aaron</th>\n",
       "      <th>FF</th>\n",
       "      <td>59.922</td>\n",
       "    </tr>\n",
       "    <tr>\n",
       "      <th>Valdez, Framber</th>\n",
       "      <th>FF</th>\n",
       "      <td>64.458</td>\n",
       "    </tr>\n",
       "    <tr>\n",
       "      <th>Gordon, Nick</th>\n",
       "      <th>FF</th>\n",
       "      <td>69.518</td>\n",
       "    </tr>\n",
       "    <tr>\n",
       "      <th>Webb, Logan</th>\n",
       "      <th>FF</th>\n",
       "      <td>72.071</td>\n",
       "    </tr>\n",
       "    <tr>\n",
       "      <th>Harrison, Josh</th>\n",
       "      <th>FF</th>\n",
       "      <td>72.703</td>\n",
       "    </tr>\n",
       "    <tr>\n",
       "      <th>VanMeter, Josh</th>\n",
       "      <th>FF</th>\n",
       "      <td>74.632</td>\n",
       "    </tr>\n",
       "    <tr>\n",
       "      <th>Castillo, Diego</th>\n",
       "      <th>FF</th>\n",
       "      <td>75.100</td>\n",
       "    </tr>\n",
       "  </tbody>\n",
       "</table>\n",
       "</div>"
      ],
      "text/plain": [
       "                            Stuff+\n",
       "player_name     pitch_type        \n",
       "Kelly, Carson   FF          50.503\n",
       "Phillips, Brett FF          57.057\n",
       "Alberto, Hanser FF          58.324\n",
       "Ashby, Aaron    FF          59.922\n",
       "Valdez, Framber FF          64.458\n",
       "Gordon, Nick    FF          69.518\n",
       "Webb, Logan     FF          72.071\n",
       "Harrison, Josh  FF          72.703\n",
       "VanMeter, Josh  FF          74.632\n",
       "Castillo, Diego FF          75.100"
      ]
     },
     "execution_count": 3,
     "metadata": {},
     "output_type": "execute_result"
    }
   ],
   "source": [
    "PitchLeaderboard(file = \"C:/Users/ryana/Downloads/Optimized Pitch Arsenals/files/pitch_grades/pitch_grades_2022.feather\", pitch_type = \"FF\", category = \"Stuff+\", length = 10, qualifier_mark = 50, orientation = True).generate_leaderboard()"
   ]
  },
  {
   "cell_type": "code",
   "execution_count": 136,
   "id": "2930a41e-bff5-4017-96d7-0a44709c9329",
   "metadata": {},
   "outputs": [
    {
     "data": {
      "text/html": [
       "<div>\n",
       "<style scoped>\n",
       "    .dataframe tbody tr th:only-of-type {\n",
       "        vertical-align: middle;\n",
       "    }\n",
       "\n",
       "    .dataframe tbody tr th {\n",
       "        vertical-align: top;\n",
       "    }\n",
       "\n",
       "    .dataframe thead th {\n",
       "        text-align: right;\n",
       "    }\n",
       "</style>\n",
       "<table border=\"1\" class=\"dataframe\">\n",
       "  <thead>\n",
       "    <tr style=\"text-align: right;\">\n",
       "      <th></th>\n",
       "      <th>Name</th>\n",
       "      <th>Age</th>\n",
       "      <th>#days</th>\n",
       "      <th>Lev</th>\n",
       "      <th>Tm</th>\n",
       "      <th>G</th>\n",
       "      <th>GS</th>\n",
       "      <th>W</th>\n",
       "      <th>L</th>\n",
       "      <th>SV</th>\n",
       "      <th>...</th>\n",
       "      <th>StL</th>\n",
       "      <th>StS</th>\n",
       "      <th>GB/FB</th>\n",
       "      <th>LD</th>\n",
       "      <th>PU</th>\n",
       "      <th>WHIP</th>\n",
       "      <th>BAbip</th>\n",
       "      <th>SO9</th>\n",
       "      <th>SO/W</th>\n",
       "      <th>mlbID</th>\n",
       "    </tr>\n",
       "  </thead>\n",
       "  <tbody>\n",
       "    <tr>\n",
       "      <th>1</th>\n",
       "      <td>Fernando Abad</td>\n",
       "      <td>37</td>\n",
       "      <td>118</td>\n",
       "      <td>Maj-NL</td>\n",
       "      <td>Colorado</td>\n",
       "      <td>6</td>\n",
       "      <td>0</td>\n",
       "      <td>1.0</td>\n",
       "      <td>NaN</td>\n",
       "      <td>NaN</td>\n",
       "      <td>...</td>\n",
       "      <td>0.16</td>\n",
       "      <td>0.03</td>\n",
       "      <td>0.37</td>\n",
       "      <td>0.26</td>\n",
       "      <td>0.04</td>\n",
       "      <td>2.211</td>\n",
       "      <td>0.360</td>\n",
       "      <td>2.8</td>\n",
       "      <td>0.67</td>\n",
       "      <td>472551</td>\n",
       "    </tr>\n",
       "    <tr>\n",
       "      <th>2</th>\n",
       "      <td>Andrew Abbott</td>\n",
       "      <td>24</td>\n",
       "      <td>47</td>\n",
       "      <td>Maj-NL</td>\n",
       "      <td>Cincinnati</td>\n",
       "      <td>21</td>\n",
       "      <td>21</td>\n",
       "      <td>8.0</td>\n",
       "      <td>6.0</td>\n",
       "      <td>NaN</td>\n",
       "      <td>...</td>\n",
       "      <td>0.16</td>\n",
       "      <td>0.11</td>\n",
       "      <td>0.30</td>\n",
       "      <td>0.25</td>\n",
       "      <td>0.09</td>\n",
       "      <td>1.317</td>\n",
       "      <td>0.302</td>\n",
       "      <td>9.9</td>\n",
       "      <td>2.73</td>\n",
       "      <td>671096</td>\n",
       "    </tr>\n",
       "    <tr>\n",
       "      <th>3</th>\n",
       "      <td>Cory Abbott</td>\n",
       "      <td>27</td>\n",
       "      <td>43</td>\n",
       "      <td>Maj-NL</td>\n",
       "      <td>Washington</td>\n",
       "      <td>22</td>\n",
       "      <td>0</td>\n",
       "      <td>1.0</td>\n",
       "      <td>2.0</td>\n",
       "      <td>NaN</td>\n",
       "      <td>...</td>\n",
       "      <td>0.17</td>\n",
       "      <td>0.12</td>\n",
       "      <td>0.39</td>\n",
       "      <td>0.29</td>\n",
       "      <td>0.05</td>\n",
       "      <td>1.703</td>\n",
       "      <td>0.351</td>\n",
       "      <td>9.2</td>\n",
       "      <td>2.11</td>\n",
       "      <td>676265</td>\n",
       "    </tr>\n",
       "    <tr>\n",
       "      <th>4</th>\n",
       "      <td>Albert Abreu</td>\n",
       "      <td>27</td>\n",
       "      <td>67</td>\n",
       "      <td>Maj-AL</td>\n",
       "      <td>New York</td>\n",
       "      <td>45</td>\n",
       "      <td>0</td>\n",
       "      <td>2.0</td>\n",
       "      <td>2.0</td>\n",
       "      <td>NaN</td>\n",
       "      <td>...</td>\n",
       "      <td>0.18</td>\n",
       "      <td>0.10</td>\n",
       "      <td>0.46</td>\n",
       "      <td>0.19</td>\n",
       "      <td>0.05</td>\n",
       "      <td>1.475</td>\n",
       "      <td>0.276</td>\n",
       "      <td>9.3</td>\n",
       "      <td>1.74</td>\n",
       "      <td>656061</td>\n",
       "    </tr>\n",
       "    <tr>\n",
       "      <th>5</th>\n",
       "      <td>Bryan Abreu</td>\n",
       "      <td>26</td>\n",
       "      <td>44</td>\n",
       "      <td>Maj-AL</td>\n",
       "      <td>Houston</td>\n",
       "      <td>72</td>\n",
       "      <td>0</td>\n",
       "      <td>3.0</td>\n",
       "      <td>2.0</td>\n",
       "      <td>5.0</td>\n",
       "      <td>...</td>\n",
       "      <td>0.17</td>\n",
       "      <td>0.17</td>\n",
       "      <td>0.39</td>\n",
       "      <td>0.27</td>\n",
       "      <td>0.06</td>\n",
       "      <td>1.042</td>\n",
       "      <td>0.262</td>\n",
       "      <td>12.5</td>\n",
       "      <td>3.23</td>\n",
       "      <td>650556</td>\n",
       "    </tr>\n",
       "    <tr>\n",
       "      <th>...</th>\n",
       "      <td>...</td>\n",
       "      <td>...</td>\n",
       "      <td>...</td>\n",
       "      <td>...</td>\n",
       "      <td>...</td>\n",
       "      <td>...</td>\n",
       "      <td>...</td>\n",
       "      <td>...</td>\n",
       "      <td>...</td>\n",
       "      <td>...</td>\n",
       "      <td>...</td>\n",
       "      <td>...</td>\n",
       "      <td>...</td>\n",
       "      <td>...</td>\n",
       "      <td>...</td>\n",
       "      <td>...</td>\n",
       "      <td>...</td>\n",
       "      <td>...</td>\n",
       "      <td>...</td>\n",
       "      <td>...</td>\n",
       "      <td>...</td>\n",
       "    </tr>\n",
       "    <tr>\n",
       "      <th>893</th>\n",
       "      <td>Rob Zastryzny</td>\n",
       "      <td>31</td>\n",
       "      <td>71</td>\n",
       "      <td>Maj-NL</td>\n",
       "      <td>Pittsburgh</td>\n",
       "      <td>21</td>\n",
       "      <td>1</td>\n",
       "      <td>1.0</td>\n",
       "      <td>NaN</td>\n",
       "      <td>NaN</td>\n",
       "      <td>...</td>\n",
       "      <td>0.17</td>\n",
       "      <td>0.11</td>\n",
       "      <td>0.41</td>\n",
       "      <td>0.25</td>\n",
       "      <td>0.19</td>\n",
       "      <td>1.790</td>\n",
       "      <td>0.349</td>\n",
       "      <td>6.5</td>\n",
       "      <td>1.15</td>\n",
       "      <td>642239</td>\n",
       "    </tr>\n",
       "    <tr>\n",
       "      <th>894</th>\n",
       "      <td>Seby Zavala</td>\n",
       "      <td>29</td>\n",
       "      <td>60</td>\n",
       "      <td>Maj-NL</td>\n",
       "      <td>Arizona</td>\n",
       "      <td>1</td>\n",
       "      <td>0</td>\n",
       "      <td>NaN</td>\n",
       "      <td>NaN</td>\n",
       "      <td>NaN</td>\n",
       "      <td>...</td>\n",
       "      <td>0.17</td>\n",
       "      <td>0.00</td>\n",
       "      <td>0.00</td>\n",
       "      <td>0.00</td>\n",
       "      <td>1.00</td>\n",
       "      <td>0.000</td>\n",
       "      <td>0.000</td>\n",
       "      <td>0.0</td>\n",
       "      <td>NaN</td>\n",
       "      <td>664874</td>\n",
       "    </tr>\n",
       "    <tr>\n",
       "      <th>895</th>\n",
       "      <td>Angel Zerpa</td>\n",
       "      <td>23</td>\n",
       "      <td>44</td>\n",
       "      <td>Maj-AL</td>\n",
       "      <td>Kansas City</td>\n",
       "      <td>15</td>\n",
       "      <td>3</td>\n",
       "      <td>3.0</td>\n",
       "      <td>3.0</td>\n",
       "      <td>NaN</td>\n",
       "      <td>...</td>\n",
       "      <td>0.14</td>\n",
       "      <td>0.09</td>\n",
       "      <td>0.51</td>\n",
       "      <td>0.22</td>\n",
       "      <td>0.07</td>\n",
       "      <td>1.266</td>\n",
       "      <td>0.307</td>\n",
       "      <td>7.6</td>\n",
       "      <td>4.50</td>\n",
       "      <td>672582</td>\n",
       "    </tr>\n",
       "    <tr>\n",
       "      <th>896</th>\n",
       "      <td>Bruce Zimmermann</td>\n",
       "      <td>28</td>\n",
       "      <td>44</td>\n",
       "      <td>Maj-AL</td>\n",
       "      <td>Baltimore</td>\n",
       "      <td>7</td>\n",
       "      <td>0</td>\n",
       "      <td>2.0</td>\n",
       "      <td>NaN</td>\n",
       "      <td>NaN</td>\n",
       "      <td>...</td>\n",
       "      <td>0.16</td>\n",
       "      <td>0.16</td>\n",
       "      <td>0.51</td>\n",
       "      <td>0.20</td>\n",
       "      <td>0.07</td>\n",
       "      <td>1.275</td>\n",
       "      <td>0.333</td>\n",
       "      <td>9.5</td>\n",
       "      <td>NaN</td>\n",
       "      <td>669145</td>\n",
       "    </tr>\n",
       "    <tr>\n",
       "      <th>897</th>\n",
       "      <td>Guillermo Zu\\xc3\\xb1iga</td>\n",
       "      <td>24</td>\n",
       "      <td>86</td>\n",
       "      <td>Maj-NL</td>\n",
       "      <td>St. Louis</td>\n",
       "      <td>2</td>\n",
       "      <td>0</td>\n",
       "      <td>NaN</td>\n",
       "      <td>NaN</td>\n",
       "      <td>NaN</td>\n",
       "      <td>...</td>\n",
       "      <td>0.16</td>\n",
       "      <td>0.07</td>\n",
       "      <td>0.00</td>\n",
       "      <td>0.25</td>\n",
       "      <td>0.25</td>\n",
       "      <td>1.000</td>\n",
       "      <td>0.500</td>\n",
       "      <td>18.0</td>\n",
       "      <td>NaN</td>\n",
       "      <td>670871</td>\n",
       "    </tr>\n",
       "  </tbody>\n",
       "</table>\n",
       "<p>863 rows × 41 columns</p>\n",
       "</div>"
      ],
      "text/plain": [
       "                        Name  Age  #days     Lev           Tm   G  GS    W  \\\n",
       "1              Fernando Abad   37    118  Maj-NL     Colorado   6   0  1.0   \n",
       "2              Andrew Abbott   24     47  Maj-NL   Cincinnati  21  21  8.0   \n",
       "3                Cory Abbott   27     43  Maj-NL   Washington  22   0  1.0   \n",
       "4               Albert Abreu   27     67  Maj-AL     New York  45   0  2.0   \n",
       "5                Bryan Abreu   26     44  Maj-AL      Houston  72   0  3.0   \n",
       "..                       ...  ...    ...     ...          ...  ..  ..  ...   \n",
       "893            Rob Zastryzny   31     71  Maj-NL   Pittsburgh  21   1  1.0   \n",
       "894              Seby Zavala   29     60  Maj-NL      Arizona   1   0  NaN   \n",
       "895              Angel Zerpa   23     44  Maj-AL  Kansas City  15   3  3.0   \n",
       "896         Bruce Zimmermann   28     44  Maj-AL    Baltimore   7   0  2.0   \n",
       "897  Guillermo Zu\\xc3\\xb1iga   24     86  Maj-NL    St. Louis   2   0  NaN   \n",
       "\n",
       "       L   SV  ...   StL   StS  GB/FB    LD    PU   WHIP  BAbip   SO9  SO/W  \\\n",
       "1    NaN  NaN  ...  0.16  0.03   0.37  0.26  0.04  2.211  0.360   2.8  0.67   \n",
       "2    6.0  NaN  ...  0.16  0.11   0.30  0.25  0.09  1.317  0.302   9.9  2.73   \n",
       "3    2.0  NaN  ...  0.17  0.12   0.39  0.29  0.05  1.703  0.351   9.2  2.11   \n",
       "4    2.0  NaN  ...  0.18  0.10   0.46  0.19  0.05  1.475  0.276   9.3  1.74   \n",
       "5    2.0  5.0  ...  0.17  0.17   0.39  0.27  0.06  1.042  0.262  12.5  3.23   \n",
       "..   ...  ...  ...   ...   ...    ...   ...   ...    ...    ...   ...   ...   \n",
       "893  NaN  NaN  ...  0.17  0.11   0.41  0.25  0.19  1.790  0.349   6.5  1.15   \n",
       "894  NaN  NaN  ...  0.17  0.00   0.00  0.00  1.00  0.000  0.000   0.0   NaN   \n",
       "895  3.0  NaN  ...  0.14  0.09   0.51  0.22  0.07  1.266  0.307   7.6  4.50   \n",
       "896  NaN  NaN  ...  0.16  0.16   0.51  0.20  0.07  1.275  0.333   9.5   NaN   \n",
       "897  NaN  NaN  ...  0.16  0.07   0.00  0.25  0.25  1.000  0.500  18.0   NaN   \n",
       "\n",
       "      mlbID  \n",
       "1    472551  \n",
       "2    671096  \n",
       "3    676265  \n",
       "4    656061  \n",
       "5    650556  \n",
       "..      ...  \n",
       "893  642239  \n",
       "894  664874  \n",
       "895  672582  \n",
       "896  669145  \n",
       "897  670871  \n",
       "\n",
       "[863 rows x 41 columns]"
      ]
     },
     "execution_count": 136,
     "metadata": {},
     "output_type": "execute_result"
    }
   ],
   "source": [
    "from pybaseball import pitching_stats_bref\n",
    "data_2023 = pitching_stats_bref(2023)\n",
    "data_2023"
   ]
  },
  {
   "cell_type": "code",
   "execution_count": 88,
   "id": "83ac9c67-22db-4201-ac4b-0076aff32bd6",
   "metadata": {},
   "outputs": [
    {
     "data": {
      "text/html": [
       "<div>\n",
       "<style scoped>\n",
       "    .dataframe tbody tr th:only-of-type {\n",
       "        vertical-align: middle;\n",
       "    }\n",
       "\n",
       "    .dataframe tbody tr th {\n",
       "        vertical-align: top;\n",
       "    }\n",
       "\n",
       "    .dataframe thead th {\n",
       "        text-align: right;\n",
       "    }\n",
       "</style>\n",
       "<table border=\"1\" class=\"dataframe\">\n",
       "  <thead>\n",
       "    <tr style=\"text-align: right;\">\n",
       "      <th></th>\n",
       "      <th>Name</th>\n",
       "      <th>Age</th>\n",
       "      <th>#days</th>\n",
       "      <th>Lev</th>\n",
       "      <th>Tm</th>\n",
       "      <th>G</th>\n",
       "      <th>GS</th>\n",
       "      <th>W</th>\n",
       "      <th>L</th>\n",
       "      <th>SV</th>\n",
       "      <th>...</th>\n",
       "      <th>StL</th>\n",
       "      <th>StS</th>\n",
       "      <th>GB/FB</th>\n",
       "      <th>LD</th>\n",
       "      <th>PU</th>\n",
       "      <th>WHIP</th>\n",
       "      <th>BAbip</th>\n",
       "      <th>SO9</th>\n",
       "      <th>SO/W</th>\n",
       "      <th>mlbID</th>\n",
       "    </tr>\n",
       "  </thead>\n",
       "  <tbody>\n",
       "    <tr>\n",
       "      <th>1</th>\n",
       "      <td>Cory Abbott</td>\n",
       "      <td>26</td>\n",
       "      <td>405</td>\n",
       "      <td>Maj-NL</td>\n",
       "      <td>Washington</td>\n",
       "      <td>16</td>\n",
       "      <td>9</td>\n",
       "      <td>NaN</td>\n",
       "      <td>5.0</td>\n",
       "      <td>NaN</td>\n",
       "      <td>...</td>\n",
       "      <td>0.13</td>\n",
       "      <td>0.12</td>\n",
       "      <td>0.29</td>\n",
       "      <td>0.16</td>\n",
       "      <td>0.11</td>\n",
       "      <td>1.438</td>\n",
       "      <td>0.248</td>\n",
       "      <td>8.4</td>\n",
       "      <td>1.80</td>\n",
       "      <td>676265</td>\n",
       "    </tr>\n",
       "    <tr>\n",
       "      <th>2</th>\n",
       "      <td>Albert Abreu</td>\n",
       "      <td>26</td>\n",
       "      <td>404</td>\n",
       "      <td>Maj-AL</td>\n",
       "      <td>Kansas City,New York,Texas</td>\n",
       "      <td>33</td>\n",
       "      <td>0</td>\n",
       "      <td>2.0</td>\n",
       "      <td>2.0</td>\n",
       "      <td>NaN</td>\n",
       "      <td>...</td>\n",
       "      <td>0.18</td>\n",
       "      <td>0.10</td>\n",
       "      <td>0.53</td>\n",
       "      <td>0.26</td>\n",
       "      <td>0.03</td>\n",
       "      <td>1.474</td>\n",
       "      <td>0.291</td>\n",
       "      <td>8.8</td>\n",
       "      <td>1.73</td>\n",
       "      <td>656061</td>\n",
       "    </tr>\n",
       "    <tr>\n",
       "      <th>3</th>\n",
       "      <td>Bryan Abreu</td>\n",
       "      <td>25</td>\n",
       "      <td>404</td>\n",
       "      <td>Maj-AL</td>\n",
       "      <td>Houston</td>\n",
       "      <td>55</td>\n",
       "      <td>0</td>\n",
       "      <td>4.0</td>\n",
       "      <td>NaN</td>\n",
       "      <td>2.0</td>\n",
       "      <td>...</td>\n",
       "      <td>0.13</td>\n",
       "      <td>0.18</td>\n",
       "      <td>0.48</td>\n",
       "      <td>0.23</td>\n",
       "      <td>0.12</td>\n",
       "      <td>1.177</td>\n",
       "      <td>0.336</td>\n",
       "      <td>13.1</td>\n",
       "      <td>3.38</td>\n",
       "      <td>650556</td>\n",
       "    </tr>\n",
       "    <tr>\n",
       "      <th>4</th>\n",
       "      <td>Domingo Acevedo</td>\n",
       "      <td>28</td>\n",
       "      <td>405</td>\n",
       "      <td>Maj-AL</td>\n",
       "      <td>Oakland</td>\n",
       "      <td>70</td>\n",
       "      <td>0</td>\n",
       "      <td>4.0</td>\n",
       "      <td>4.0</td>\n",
       "      <td>4.0</td>\n",
       "      <td>...</td>\n",
       "      <td>0.12</td>\n",
       "      <td>0.16</td>\n",
       "      <td>0.42</td>\n",
       "      <td>0.22</td>\n",
       "      <td>0.09</td>\n",
       "      <td>0.990</td>\n",
       "      <td>0.232</td>\n",
       "      <td>7.7</td>\n",
       "      <td>3.41</td>\n",
       "      <td>642758</td>\n",
       "    </tr>\n",
       "    <tr>\n",
       "      <th>5</th>\n",
       "      <td>Jason Adam</td>\n",
       "      <td>30</td>\n",
       "      <td>411</td>\n",
       "      <td>Maj-AL</td>\n",
       "      <td>Tampa Bay</td>\n",
       "      <td>67</td>\n",
       "      <td>0</td>\n",
       "      <td>2.0</td>\n",
       "      <td>3.0</td>\n",
       "      <td>8.0</td>\n",
       "      <td>...</td>\n",
       "      <td>0.17</td>\n",
       "      <td>0.18</td>\n",
       "      <td>0.44</td>\n",
       "      <td>0.18</td>\n",
       "      <td>0.13</td>\n",
       "      <td>0.758</td>\n",
       "      <td>0.196</td>\n",
       "      <td>10.7</td>\n",
       "      <td>4.41</td>\n",
       "      <td>592094</td>\n",
       "    </tr>\n",
       "    <tr>\n",
       "      <th>...</th>\n",
       "      <td>...</td>\n",
       "      <td>...</td>\n",
       "      <td>...</td>\n",
       "      <td>...</td>\n",
       "      <td>...</td>\n",
       "      <td>...</td>\n",
       "      <td>...</td>\n",
       "      <td>...</td>\n",
       "      <td>...</td>\n",
       "      <td>...</td>\n",
       "      <td>...</td>\n",
       "      <td>...</td>\n",
       "      <td>...</td>\n",
       "      <td>...</td>\n",
       "      <td>...</td>\n",
       "      <td>...</td>\n",
       "      <td>...</td>\n",
       "      <td>...</td>\n",
       "      <td>...</td>\n",
       "      <td>...</td>\n",
       "      <td>...</td>\n",
       "    </tr>\n",
       "    <tr>\n",
       "      <th>901</th>\n",
       "      <td>Aneurys Zabala</td>\n",
       "      <td>25</td>\n",
       "      <td>469</td>\n",
       "      <td>Maj-NL</td>\n",
       "      <td>Miami</td>\n",
       "      <td>2</td>\n",
       "      <td>0</td>\n",
       "      <td>NaN</td>\n",
       "      <td>NaN</td>\n",
       "      <td>NaN</td>\n",
       "      <td>...</td>\n",
       "      <td>0.16</td>\n",
       "      <td>0.14</td>\n",
       "      <td>0.25</td>\n",
       "      <td>0.25</td>\n",
       "      <td>0.00</td>\n",
       "      <td>1.500</td>\n",
       "      <td>0.375</td>\n",
       "      <td>6.8</td>\n",
       "      <td>2.00</td>\n",
       "      <td>656008</td>\n",
       "    </tr>\n",
       "    <tr>\n",
       "      <th>902</th>\n",
       "      <td>Rob Zastryzny</td>\n",
       "      <td>30</td>\n",
       "      <td>404</td>\n",
       "      <td>Maj-AL,Maj-NL</td>\n",
       "      <td>Los Angeles,New York</td>\n",
       "      <td>6</td>\n",
       "      <td>0</td>\n",
       "      <td>NaN</td>\n",
       "      <td>NaN</td>\n",
       "      <td>NaN</td>\n",
       "      <td>...</td>\n",
       "      <td>0.11</td>\n",
       "      <td>0.11</td>\n",
       "      <td>0.42</td>\n",
       "      <td>0.25</td>\n",
       "      <td>0.00</td>\n",
       "      <td>1.000</td>\n",
       "      <td>0.250</td>\n",
       "      <td>6.8</td>\n",
       "      <td>3.00</td>\n",
       "      <td>642239</td>\n",
       "    </tr>\n",
       "    <tr>\n",
       "      <th>903</th>\n",
       "      <td>Angel Zerpa</td>\n",
       "      <td>22</td>\n",
       "      <td>475</td>\n",
       "      <td>Maj-AL</td>\n",
       "      <td>Kansas City</td>\n",
       "      <td>3</td>\n",
       "      <td>2</td>\n",
       "      <td>2.0</td>\n",
       "      <td>1.0</td>\n",
       "      <td>NaN</td>\n",
       "      <td>...</td>\n",
       "      <td>0.20</td>\n",
       "      <td>0.04</td>\n",
       "      <td>0.53</td>\n",
       "      <td>0.18</td>\n",
       "      <td>0.08</td>\n",
       "      <td>1.091</td>\n",
       "      <td>0.194</td>\n",
       "      <td>2.5</td>\n",
       "      <td>1.00</td>\n",
       "      <td>672582</td>\n",
       "    </tr>\n",
       "    <tr>\n",
       "      <th>904</th>\n",
       "      <td>T.J. Zeuch</td>\n",
       "      <td>26</td>\n",
       "      <td>446</td>\n",
       "      <td>Maj-NL</td>\n",
       "      <td>Cincinnati</td>\n",
       "      <td>3</td>\n",
       "      <td>3</td>\n",
       "      <td>NaN</td>\n",
       "      <td>3.0</td>\n",
       "      <td>NaN</td>\n",
       "      <td>...</td>\n",
       "      <td>0.16</td>\n",
       "      <td>0.07</td>\n",
       "      <td>0.49</td>\n",
       "      <td>0.22</td>\n",
       "      <td>0.06</td>\n",
       "      <td>2.906</td>\n",
       "      <td>0.432</td>\n",
       "      <td>4.2</td>\n",
       "      <td>0.71</td>\n",
       "      <td>643615</td>\n",
       "    </tr>\n",
       "    <tr>\n",
       "      <th>905</th>\n",
       "      <td>Bruce Zimmermann</td>\n",
       "      <td>27</td>\n",
       "      <td>434</td>\n",
       "      <td>Maj-AL</td>\n",
       "      <td>Baltimore</td>\n",
       "      <td>15</td>\n",
       "      <td>13</td>\n",
       "      <td>2.0</td>\n",
       "      <td>5.0</td>\n",
       "      <td>NaN</td>\n",
       "      <td>...</td>\n",
       "      <td>0.16</td>\n",
       "      <td>0.09</td>\n",
       "      <td>0.40</td>\n",
       "      <td>0.26</td>\n",
       "      <td>0.07</td>\n",
       "      <td>1.480</td>\n",
       "      <td>0.323</td>\n",
       "      <td>6.0</td>\n",
       "      <td>4.08</td>\n",
       "      <td>669145</td>\n",
       "    </tr>\n",
       "  </tbody>\n",
       "</table>\n",
       "<p>871 rows × 41 columns</p>\n",
       "</div>"
      ],
      "text/plain": [
       "                 Name  Age  #days            Lev                          Tm  \\\n",
       "1         Cory Abbott   26    405         Maj-NL                  Washington   \n",
       "2        Albert Abreu   26    404         Maj-AL  Kansas City,New York,Texas   \n",
       "3         Bryan Abreu   25    404         Maj-AL                     Houston   \n",
       "4     Domingo Acevedo   28    405         Maj-AL                     Oakland   \n",
       "5          Jason Adam   30    411         Maj-AL                   Tampa Bay   \n",
       "..                ...  ...    ...            ...                         ...   \n",
       "901    Aneurys Zabala   25    469         Maj-NL                       Miami   \n",
       "902     Rob Zastryzny   30    404  Maj-AL,Maj-NL        Los Angeles,New York   \n",
       "903       Angel Zerpa   22    475         Maj-AL                 Kansas City   \n",
       "904        T.J. Zeuch   26    446         Maj-NL                  Cincinnati   \n",
       "905  Bruce Zimmermann   27    434         Maj-AL                   Baltimore   \n",
       "\n",
       "      G  GS    W    L   SV  ...   StL   StS  GB/FB    LD    PU   WHIP  BAbip  \\\n",
       "1    16   9  NaN  5.0  NaN  ...  0.13  0.12   0.29  0.16  0.11  1.438  0.248   \n",
       "2    33   0  2.0  2.0  NaN  ...  0.18  0.10   0.53  0.26  0.03  1.474  0.291   \n",
       "3    55   0  4.0  NaN  2.0  ...  0.13  0.18   0.48  0.23  0.12  1.177  0.336   \n",
       "4    70   0  4.0  4.0  4.0  ...  0.12  0.16   0.42  0.22  0.09  0.990  0.232   \n",
       "5    67   0  2.0  3.0  8.0  ...  0.17  0.18   0.44  0.18  0.13  0.758  0.196   \n",
       "..   ..  ..  ...  ...  ...  ...   ...   ...    ...   ...   ...    ...    ...   \n",
       "901   2   0  NaN  NaN  NaN  ...  0.16  0.14   0.25  0.25  0.00  1.500  0.375   \n",
       "902   6   0  NaN  NaN  NaN  ...  0.11  0.11   0.42  0.25  0.00  1.000  0.250   \n",
       "903   3   2  2.0  1.0  NaN  ...  0.20  0.04   0.53  0.18  0.08  1.091  0.194   \n",
       "904   3   3  NaN  3.0  NaN  ...  0.16  0.07   0.49  0.22  0.06  2.906  0.432   \n",
       "905  15  13  2.0  5.0  NaN  ...  0.16  0.09   0.40  0.26  0.07  1.480  0.323   \n",
       "\n",
       "      SO9  SO/W   mlbID  \n",
       "1     8.4  1.80  676265  \n",
       "2     8.8  1.73  656061  \n",
       "3    13.1  3.38  650556  \n",
       "4     7.7  3.41  642758  \n",
       "5    10.7  4.41  592094  \n",
       "..    ...   ...     ...  \n",
       "901   6.8  2.00  656008  \n",
       "902   6.8  3.00  642239  \n",
       "903   2.5  1.00  672582  \n",
       "904   4.2  0.71  643615  \n",
       "905   6.0  4.08  669145  \n",
       "\n",
       "[871 rows x 41 columns]"
      ]
     },
     "execution_count": 88,
     "metadata": {},
     "output_type": "execute_result"
    }
   ],
   "source": [
    "data_2022 = pitching_stats_bref(2022)\n",
    "data_2022"
   ]
  },
  {
   "cell_type": "code",
   "execution_count": 141,
   "id": "c9997785-d90e-4f49-9e5c-cb62eb889242",
   "metadata": {},
   "outputs": [
    {
     "data": {
      "text/html": [
       "<div>\n",
       "<style scoped>\n",
       "    .dataframe tbody tr th:only-of-type {\n",
       "        vertical-align: middle;\n",
       "    }\n",
       "\n",
       "    .dataframe tbody tr th {\n",
       "        vertical-align: top;\n",
       "    }\n",
       "\n",
       "    .dataframe thead th {\n",
       "        text-align: right;\n",
       "    }\n",
       "</style>\n",
       "<table border=\"1\" class=\"dataframe\">\n",
       "  <thead>\n",
       "    <tr style=\"text-align: right;\">\n",
       "      <th></th>\n",
       "      <th>player_name</th>\n",
       "      <th>2022_ERA</th>\n",
       "      <th>2022_Age</th>\n",
       "    </tr>\n",
       "  </thead>\n",
       "  <tbody>\n",
       "    <tr>\n",
       "      <th>0</th>\n",
       "      <td>Abreu, Bryan</td>\n",
       "      <td>1.94</td>\n",
       "      <td>25</td>\n",
       "    </tr>\n",
       "    <tr>\n",
       "      <th>1</th>\n",
       "      <td>Acevedo, Domingo</td>\n",
       "      <td>3.33</td>\n",
       "      <td>28</td>\n",
       "    </tr>\n",
       "    <tr>\n",
       "      <th>2</th>\n",
       "      <td>Adam, Jason</td>\n",
       "      <td>1.56</td>\n",
       "      <td>30</td>\n",
       "    </tr>\n",
       "    <tr>\n",
       "      <th>3</th>\n",
       "      <td>Adon, Joan</td>\n",
       "      <td>7.10</td>\n",
       "      <td>23</td>\n",
       "    </tr>\n",
       "    <tr>\n",
       "      <th>4</th>\n",
       "      <td>Akin, Keegan</td>\n",
       "      <td>3.20</td>\n",
       "      <td>27</td>\n",
       "    </tr>\n",
       "    <tr>\n",
       "      <th>...</th>\n",
       "      <td>...</td>\n",
       "      <td>...</td>\n",
       "      <td>...</td>\n",
       "    </tr>\n",
       "    <tr>\n",
       "      <th>342</th>\n",
       "      <td>Wood, Alex</td>\n",
       "      <td>5.10</td>\n",
       "      <td>31</td>\n",
       "    </tr>\n",
       "    <tr>\n",
       "      <th>343</th>\n",
       "      <td>Woodruff, Brandon</td>\n",
       "      <td>3.05</td>\n",
       "      <td>29</td>\n",
       "    </tr>\n",
       "    <tr>\n",
       "      <th>344</th>\n",
       "      <td>Wright, Kyle</td>\n",
       "      <td>3.19</td>\n",
       "      <td>26</td>\n",
       "    </tr>\n",
       "    <tr>\n",
       "      <th>345</th>\n",
       "      <td>Yarbrough, Ryan</td>\n",
       "      <td>4.50</td>\n",
       "      <td>30</td>\n",
       "    </tr>\n",
       "    <tr>\n",
       "      <th>346</th>\n",
       "      <td>Zimmermann, Bruce</td>\n",
       "      <td>5.99</td>\n",
       "      <td>27</td>\n",
       "    </tr>\n",
       "  </tbody>\n",
       "</table>\n",
       "<p>347 rows × 3 columns</p>\n",
       "</div>"
      ],
      "text/plain": [
       "           player_name  2022_ERA  2022_Age\n",
       "0         Abreu, Bryan      1.94        25\n",
       "1     Acevedo, Domingo      3.33        28\n",
       "2          Adam, Jason      1.56        30\n",
       "3           Adon, Joan      7.10        23\n",
       "4         Akin, Keegan      3.20        27\n",
       "..                 ...       ...       ...\n",
       "342         Wood, Alex      5.10        31\n",
       "343  Woodruff, Brandon      3.05        29\n",
       "344       Wright, Kyle      3.19        26\n",
       "345    Yarbrough, Ryan      4.50        30\n",
       "346  Zimmermann, Bruce      5.99        27\n",
       "\n",
       "[347 rows x 3 columns]"
      ]
     },
     "execution_count": 141,
     "metadata": {},
     "output_type": "execute_result"
    }
   ],
   "source": [
    "df_2022 = data_2022[[\"Name\", \"IP\", \"ERA\", \"Age\"]]\n",
    "df_2022 = df_2022[df_2022[\"IP\"] >= 50].drop(\"IP\", axis=1).reset_index(drop=True)\n",
    "df_2022.rename(columns={'Name': 'player_name', 'ERA': '2022_ERA', 'Age': '2022_Age'}, inplace=True)\n",
    "df_2022['player_name'] = df_2022['player_name'].str.split().apply(lambda x: ', '.join(x[::-1]))\n",
    "df_2022"
   ]
  },
  {
   "cell_type": "code",
   "execution_count": 143,
   "id": "168ff5b3-24d6-427e-ad29-54f80d1ecea3",
   "metadata": {},
   "outputs": [
    {
     "data": {
      "text/html": [
       "<div>\n",
       "<style scoped>\n",
       "    .dataframe tbody tr th:only-of-type {\n",
       "        vertical-align: middle;\n",
       "    }\n",
       "\n",
       "    .dataframe tbody tr th {\n",
       "        vertical-align: top;\n",
       "    }\n",
       "\n",
       "    .dataframe thead th {\n",
       "        text-align: right;\n",
       "    }\n",
       "</style>\n",
       "<table border=\"1\" class=\"dataframe\">\n",
       "  <thead>\n",
       "    <tr style=\"text-align: right;\">\n",
       "      <th></th>\n",
       "      <th>player_name</th>\n",
       "      <th>2023_ERA</th>\n",
       "      <th>2023_Age</th>\n",
       "    </tr>\n",
       "  </thead>\n",
       "  <tbody>\n",
       "    <tr>\n",
       "      <th>0</th>\n",
       "      <td>Abbott, Andrew</td>\n",
       "      <td>3.87</td>\n",
       "      <td>24</td>\n",
       "    </tr>\n",
       "    <tr>\n",
       "      <th>1</th>\n",
       "      <td>Abreu, Albert</td>\n",
       "      <td>4.73</td>\n",
       "      <td>27</td>\n",
       "    </tr>\n",
       "    <tr>\n",
       "      <th>2</th>\n",
       "      <td>Abreu, Bryan</td>\n",
       "      <td>1.75</td>\n",
       "      <td>26</td>\n",
       "    </tr>\n",
       "    <tr>\n",
       "      <th>3</th>\n",
       "      <td>Adam, Jason</td>\n",
       "      <td>2.98</td>\n",
       "      <td>31</td>\n",
       "    </tr>\n",
       "    <tr>\n",
       "      <th>4</th>\n",
       "      <td>Adon, Joan</td>\n",
       "      <td>6.45</td>\n",
       "      <td>24</td>\n",
       "    </tr>\n",
       "    <tr>\n",
       "      <th>...</th>\n",
       "      <td>...</td>\n",
       "      <td>...</td>\n",
       "      <td>...</td>\n",
       "    </tr>\n",
       "    <tr>\n",
       "      <th>352</th>\n",
       "      <td>Wood, Alex</td>\n",
       "      <td>4.33</td>\n",
       "      <td>32</td>\n",
       "    </tr>\n",
       "    <tr>\n",
       "      <th>353</th>\n",
       "      <td>Woodruff, Brandon</td>\n",
       "      <td>2.28</td>\n",
       "      <td>30</td>\n",
       "    </tr>\n",
       "    <tr>\n",
       "      <th>354</th>\n",
       "      <td>Yarbrough, Ryan</td>\n",
       "      <td>4.52</td>\n",
       "      <td>31</td>\n",
       "    </tr>\n",
       "    <tr>\n",
       "      <th>355</th>\n",
       "      <td>Yates, Kirby</td>\n",
       "      <td>3.28</td>\n",
       "      <td>36</td>\n",
       "    </tr>\n",
       "    <tr>\n",
       "      <th>356</th>\n",
       "      <td>Young, Alex</td>\n",
       "      <td>3.86</td>\n",
       "      <td>29</td>\n",
       "    </tr>\n",
       "  </tbody>\n",
       "</table>\n",
       "<p>357 rows × 3 columns</p>\n",
       "</div>"
      ],
      "text/plain": [
       "           player_name  2023_ERA  2023_Age\n",
       "0       Abbott, Andrew      3.87        24\n",
       "1        Abreu, Albert      4.73        27\n",
       "2         Abreu, Bryan      1.75        26\n",
       "3          Adam, Jason      2.98        31\n",
       "4           Adon, Joan      6.45        24\n",
       "..                 ...       ...       ...\n",
       "352         Wood, Alex      4.33        32\n",
       "353  Woodruff, Brandon      2.28        30\n",
       "354    Yarbrough, Ryan      4.52        31\n",
       "355       Yates, Kirby      3.28        36\n",
       "356        Young, Alex      3.86        29\n",
       "\n",
       "[357 rows x 3 columns]"
      ]
     },
     "execution_count": 143,
     "metadata": {},
     "output_type": "execute_result"
    }
   ],
   "source": [
    "df_2023 = data_2023[[\"Name\", \"IP\", \"ERA\", \"Age\"]]\n",
    "df_2023 = df_2023[df_2023[\"IP\"] >= 50].drop(\"IP\", axis=1).reset_index(drop=True)\n",
    "df_2023.rename(columns={'Name': 'player_name', 'ERA': '2023_ERA', 'Age': '2023_Age'}, inplace=True)\n",
    "df_2023['player_name'] = df_2023['player_name'].str.split().apply(lambda x: ', '.join(x[::-1]))\n",
    "df_2023"
   ]
  },
  {
   "cell_type": "code",
   "execution_count": 145,
   "id": "02e0db0e-21b7-496a-beb4-544bb008afb5",
   "metadata": {},
   "outputs": [
    {
     "data": {
      "text/html": [
       "<div>\n",
       "<style scoped>\n",
       "    .dataframe tbody tr th:only-of-type {\n",
       "        vertical-align: middle;\n",
       "    }\n",
       "\n",
       "    .dataframe tbody tr th {\n",
       "        vertical-align: top;\n",
       "    }\n",
       "\n",
       "    .dataframe thead th {\n",
       "        text-align: right;\n",
       "    }\n",
       "</style>\n",
       "<table border=\"1\" class=\"dataframe\">\n",
       "  <thead>\n",
       "    <tr style=\"text-align: right;\">\n",
       "      <th></th>\n",
       "      <th>player_name</th>\n",
       "      <th>balls</th>\n",
       "      <th>strikes</th>\n",
       "      <th>release_pos_x</th>\n",
       "      <th>release_pos_z</th>\n",
       "      <th>release_extension</th>\n",
       "      <th>release_speed</th>\n",
       "      <th>release_spin_rate</th>\n",
       "      <th>spin_axis</th>\n",
       "      <th>pfx_x</th>\n",
       "      <th>...</th>\n",
       "      <th>lCSW%</th>\n",
       "      <th>pCSW%</th>\n",
       "      <th>Stuff+</th>\n",
       "      <th>Location+</th>\n",
       "      <th>Pitching+</th>\n",
       "      <th>2022_ERA</th>\n",
       "      <th>2022_Age</th>\n",
       "      <th>2023_ERA</th>\n",
       "      <th>2023_Age</th>\n",
       "      <th>ERA_diff</th>\n",
       "    </tr>\n",
       "  </thead>\n",
       "  <tbody>\n",
       "    <tr>\n",
       "      <th>0</th>\n",
       "      <td>Abreu, Bryan</td>\n",
       "      <td>0.902848</td>\n",
       "      <td>0.893635</td>\n",
       "      <td>-2.06768</td>\n",
       "      <td>5.765988</td>\n",
       "      <td>6.428727</td>\n",
       "      <td>91.85603</td>\n",
       "      <td>2612.81742</td>\n",
       "      <td>122.322446</td>\n",
       "      <td>0.188317</td>\n",
       "      <td>...</td>\n",
       "      <td>0.312320</td>\n",
       "      <td>0.317279</td>\n",
       "      <td>106.406654</td>\n",
       "      <td>104.390465</td>\n",
       "      <td>106.078064</td>\n",
       "      <td>1.94</td>\n",
       "      <td>25</td>\n",
       "      <td>1.75</td>\n",
       "      <td>26</td>\n",
       "      <td>0.19</td>\n",
       "    </tr>\n",
       "    <tr>\n",
       "      <th>1</th>\n",
       "      <td>Adam, Jason</td>\n",
       "      <td>0.795431</td>\n",
       "      <td>0.938733</td>\n",
       "      <td>-1.656334</td>\n",
       "      <td>5.938733</td>\n",
       "      <td>6.546106</td>\n",
       "      <td>88.438941</td>\n",
       "      <td>2473.196262</td>\n",
       "      <td>164.332295</td>\n",
       "      <td>-0.244704</td>\n",
       "      <td>...</td>\n",
       "      <td>0.299787</td>\n",
       "      <td>0.313832</td>\n",
       "      <td>112.529900</td>\n",
       "      <td>105.405525</td>\n",
       "      <td>110.778320</td>\n",
       "      <td>1.56</td>\n",
       "      <td>30</td>\n",
       "      <td>2.98</td>\n",
       "      <td>31</td>\n",
       "      <td>-1.42</td>\n",
       "    </tr>\n",
       "    <tr>\n",
       "      <th>2</th>\n",
       "      <td>Adon, Joan</td>\n",
       "      <td>0.899663</td>\n",
       "      <td>0.863406</td>\n",
       "      <td>-2.564477</td>\n",
       "      <td>6.030219</td>\n",
       "      <td>6.32656</td>\n",
       "      <td>90.868381</td>\n",
       "      <td>2181.272344</td>\n",
       "      <td>177.482293</td>\n",
       "      <td>-0.569755</td>\n",
       "      <td>...</td>\n",
       "      <td>0.275004</td>\n",
       "      <td>0.264537</td>\n",
       "      <td>94.223747</td>\n",
       "      <td>96.195076</td>\n",
       "      <td>92.527252</td>\n",
       "      <td>7.10</td>\n",
       "      <td>23</td>\n",
       "      <td>6.45</td>\n",
       "      <td>24</td>\n",
       "      <td>0.65</td>\n",
       "    </tr>\n",
       "    <tr>\n",
       "      <th>3</th>\n",
       "      <td>Alcantara, Sandy</td>\n",
       "      <td>0.763816</td>\n",
       "      <td>0.873109</td>\n",
       "      <td>-2.107024</td>\n",
       "      <td>6.050299</td>\n",
       "      <td>5.899166</td>\n",
       "      <td>94.42084</td>\n",
       "      <td>2218.034579</td>\n",
       "      <td>219.548626</td>\n",
       "      <td>-0.996897</td>\n",
       "      <td>...</td>\n",
       "      <td>0.290641</td>\n",
       "      <td>0.282878</td>\n",
       "      <td>98.002411</td>\n",
       "      <td>104.627434</td>\n",
       "      <td>101.999458</td>\n",
       "      <td>2.28</td>\n",
       "      <td>26</td>\n",
       "      <td>4.14</td>\n",
       "      <td>27</td>\n",
       "      <td>-1.86</td>\n",
       "    </tr>\n",
       "    <tr>\n",
       "      <th>4</th>\n",
       "      <td>Anderson, Tyler</td>\n",
       "      <td>0.778279</td>\n",
       "      <td>0.881623</td>\n",
       "      <td>-1.91484</td>\n",
       "      <td>6.014104</td>\n",
       "      <td>6.100564</td>\n",
       "      <td>85.677865</td>\n",
       "      <td>2153.383315</td>\n",
       "      <td>213.568207</td>\n",
       "      <td>-0.64097</td>\n",
       "      <td>...</td>\n",
       "      <td>0.274942</td>\n",
       "      <td>0.275943</td>\n",
       "      <td>107.314812</td>\n",
       "      <td>102.366966</td>\n",
       "      <td>102.830315</td>\n",
       "      <td>2.57</td>\n",
       "      <td>32</td>\n",
       "      <td>5.43</td>\n",
       "      <td>33</td>\n",
       "      <td>-2.86</td>\n",
       "    </tr>\n",
       "    <tr>\n",
       "      <th>...</th>\n",
       "      <td>...</td>\n",
       "      <td>...</td>\n",
       "      <td>...</td>\n",
       "      <td>...</td>\n",
       "      <td>...</td>\n",
       "      <td>...</td>\n",
       "      <td>...</td>\n",
       "      <td>...</td>\n",
       "      <td>...</td>\n",
       "      <td>...</td>\n",
       "      <td>...</td>\n",
       "      <td>...</td>\n",
       "      <td>...</td>\n",
       "      <td>...</td>\n",
       "      <td>...</td>\n",
       "      <td>...</td>\n",
       "      <td>...</td>\n",
       "      <td>...</td>\n",
       "      <td>...</td>\n",
       "      <td>...</td>\n",
       "      <td>...</td>\n",
       "    </tr>\n",
       "    <tr>\n",
       "      <th>183</th>\n",
       "      <td>Wilson, Steven</td>\n",
       "      <td>0.880676</td>\n",
       "      <td>0.951426</td>\n",
       "      <td>-1.782598</td>\n",
       "      <td>5.503442</td>\n",
       "      <td>6.779303</td>\n",
       "      <td>88.90095</td>\n",
       "      <td>2491.228089</td>\n",
       "      <td>153.089757</td>\n",
       "      <td>-0.009419</td>\n",
       "      <td>...</td>\n",
       "      <td>0.305162</td>\n",
       "      <td>0.309307</td>\n",
       "      <td>108.192009</td>\n",
       "      <td>103.692978</td>\n",
       "      <td>105.047150</td>\n",
       "      <td>3.06</td>\n",
       "      <td>27</td>\n",
       "      <td>3.91</td>\n",
       "      <td>28</td>\n",
       "      <td>-0.85</td>\n",
       "    </tr>\n",
       "    <tr>\n",
       "      <th>184</th>\n",
       "      <td>Winckowski, Josh</td>\n",
       "      <td>0.883585</td>\n",
       "      <td>0.840034</td>\n",
       "      <td>-1.739682</td>\n",
       "      <td>5.992655</td>\n",
       "      <td>6.49196</td>\n",
       "      <td>90.363735</td>\n",
       "      <td>2107.798157</td>\n",
       "      <td>167.542714</td>\n",
       "      <td>-0.459154</td>\n",
       "      <td>...</td>\n",
       "      <td>0.283070</td>\n",
       "      <td>0.278740</td>\n",
       "      <td>92.432793</td>\n",
       "      <td>100.055710</td>\n",
       "      <td>98.525352</td>\n",
       "      <td>5.89</td>\n",
       "      <td>24</td>\n",
       "      <td>2.88</td>\n",
       "      <td>25</td>\n",
       "      <td>3.01</td>\n",
       "    </tr>\n",
       "    <tr>\n",
       "      <th>185</th>\n",
       "      <td>Wood, Alex</td>\n",
       "      <td>0.883816</td>\n",
       "      <td>0.961121</td>\n",
       "      <td>-2.269598</td>\n",
       "      <td>4.817608</td>\n",
       "      <td>6.217812</td>\n",
       "      <td>88.315054</td>\n",
       "      <td>1981.301085</td>\n",
       "      <td>217.529837</td>\n",
       "      <td>-0.717509</td>\n",
       "      <td>...</td>\n",
       "      <td>0.300185</td>\n",
       "      <td>0.294435</td>\n",
       "      <td>101.233467</td>\n",
       "      <td>105.165901</td>\n",
       "      <td>102.897110</td>\n",
       "      <td>5.10</td>\n",
       "      <td>31</td>\n",
       "      <td>4.33</td>\n",
       "      <td>32</td>\n",
       "      <td>0.77</td>\n",
       "    </tr>\n",
       "    <tr>\n",
       "      <th>186</th>\n",
       "      <td>Woodruff, Brandon</td>\n",
       "      <td>0.872778</td>\n",
       "      <td>0.965231</td>\n",
       "      <td>-1.257045</td>\n",
       "      <td>5.881869</td>\n",
       "      <td>6.596997</td>\n",
       "      <td>92.04354</td>\n",
       "      <td>2305.78467</td>\n",
       "      <td>182.811932</td>\n",
       "      <td>-0.592778</td>\n",
       "      <td>...</td>\n",
       "      <td>0.289398</td>\n",
       "      <td>0.290725</td>\n",
       "      <td>99.074615</td>\n",
       "      <td>102.149826</td>\n",
       "      <td>102.770126</td>\n",
       "      <td>3.05</td>\n",
       "      <td>29</td>\n",
       "      <td>2.28</td>\n",
       "      <td>30</td>\n",
       "      <td>0.77</td>\n",
       "    </tr>\n",
       "    <tr>\n",
       "      <th>187</th>\n",
       "      <td>Yarbrough, Ryan</td>\n",
       "      <td>0.831734</td>\n",
       "      <td>0.939483</td>\n",
       "      <td>-3.043904</td>\n",
       "      <td>5.118295</td>\n",
       "      <td>6.392546</td>\n",
       "      <td>79.286421</td>\n",
       "      <td>2018.005166</td>\n",
       "      <td>189.118819</td>\n",
       "      <td>-0.158509</td>\n",
       "      <td>...</td>\n",
       "      <td>0.290763</td>\n",
       "      <td>0.286297</td>\n",
       "      <td>99.423767</td>\n",
       "      <td>103.945213</td>\n",
       "      <td>102.057045</td>\n",
       "      <td>4.50</td>\n",
       "      <td>30</td>\n",
       "      <td>4.52</td>\n",
       "      <td>31</td>\n",
       "      <td>-0.02</td>\n",
       "    </tr>\n",
       "  </tbody>\n",
       "</table>\n",
       "<p>188 rows × 40 columns</p>\n",
       "</div>"
      ],
      "text/plain": [
       "           player_name     balls   strikes  release_pos_x  release_pos_z  \\\n",
       "0         Abreu, Bryan  0.902848  0.893635       -2.06768       5.765988   \n",
       "1          Adam, Jason  0.795431  0.938733      -1.656334       5.938733   \n",
       "2           Adon, Joan  0.899663  0.863406      -2.564477       6.030219   \n",
       "3     Alcantara, Sandy  0.763816  0.873109      -2.107024       6.050299   \n",
       "4      Anderson, Tyler  0.778279  0.881623       -1.91484       6.014104   \n",
       "..                 ...       ...       ...            ...            ...   \n",
       "183     Wilson, Steven  0.880676  0.951426      -1.782598       5.503442   \n",
       "184   Winckowski, Josh  0.883585  0.840034      -1.739682       5.992655   \n",
       "185         Wood, Alex  0.883816  0.961121      -2.269598       4.817608   \n",
       "186  Woodruff, Brandon  0.872778  0.965231      -1.257045       5.881869   \n",
       "187    Yarbrough, Ryan  0.831734  0.939483      -3.043904       5.118295   \n",
       "\n",
       "     release_extension  release_speed  release_spin_rate   spin_axis  \\\n",
       "0             6.428727       91.85603         2612.81742  122.322446   \n",
       "1             6.546106      88.438941        2473.196262  164.332295   \n",
       "2              6.32656      90.868381        2181.272344  177.482293   \n",
       "3             5.899166       94.42084        2218.034579  219.548626   \n",
       "4             6.100564      85.677865        2153.383315  213.568207   \n",
       "..                 ...            ...                ...         ...   \n",
       "183           6.779303       88.90095        2491.228089  153.089757   \n",
       "184            6.49196      90.363735        2107.798157  167.542714   \n",
       "185           6.217812      88.315054        1981.301085  217.529837   \n",
       "186           6.596997       92.04354         2305.78467  182.811932   \n",
       "187           6.392546      79.286421        2018.005166  189.118819   \n",
       "\n",
       "        pfx_x  ...     lCSW%     pCSW%      Stuff+   Location+   Pitching+  \\\n",
       "0    0.188317  ...  0.312320  0.317279  106.406654  104.390465  106.078064   \n",
       "1   -0.244704  ...  0.299787  0.313832  112.529900  105.405525  110.778320   \n",
       "2   -0.569755  ...  0.275004  0.264537   94.223747   96.195076   92.527252   \n",
       "3   -0.996897  ...  0.290641  0.282878   98.002411  104.627434  101.999458   \n",
       "4    -0.64097  ...  0.274942  0.275943  107.314812  102.366966  102.830315   \n",
       "..        ...  ...       ...       ...         ...         ...         ...   \n",
       "183 -0.009419  ...  0.305162  0.309307  108.192009  103.692978  105.047150   \n",
       "184 -0.459154  ...  0.283070  0.278740   92.432793  100.055710   98.525352   \n",
       "185 -0.717509  ...  0.300185  0.294435  101.233467  105.165901  102.897110   \n",
       "186 -0.592778  ...  0.289398  0.290725   99.074615  102.149826  102.770126   \n",
       "187 -0.158509  ...  0.290763  0.286297   99.423767  103.945213  102.057045   \n",
       "\n",
       "     2022_ERA  2022_Age  2023_ERA  2023_Age  ERA_diff  \n",
       "0        1.94        25      1.75        26      0.19  \n",
       "1        1.56        30      2.98        31     -1.42  \n",
       "2        7.10        23      6.45        24      0.65  \n",
       "3        2.28        26      4.14        27     -1.86  \n",
       "4        2.57        32      5.43        33     -2.86  \n",
       "..        ...       ...       ...       ...       ...  \n",
       "183      3.06        27      3.91        28     -0.85  \n",
       "184      5.89        24      2.88        25      3.01  \n",
       "185      5.10        31      4.33        32      0.77  \n",
       "186      3.05        29      2.28        30      0.77  \n",
       "187      4.50        30      4.52        31     -0.02  \n",
       "\n",
       "[188 rows x 40 columns]"
      ]
     },
     "execution_count": 145,
     "metadata": {},
     "output_type": "execute_result"
    }
   ],
   "source": [
    "mdf = pd.read_feather(\"C:/Users/ryana/Downloads/Optimized Pitch Arsenals/files/pitch_grades/pitch_grades_2022.feather\").groupby([\"player_name\"]).mean(numeric_only = True).reset_index()\n",
    "df = pd.merge(mdf, df_2022, how='inner', on=\"player_name\")\n",
    "df = pd.merge(df, df_2023, how='inner', on=\"player_name\")\n",
    "df[\"ERA_diff\"] = df[\"2022_ERA\"] - df[\"2023_ERA\"]\n",
    "df"
   ]
  },
  {
   "cell_type": "code",
   "execution_count": 132,
   "id": "b55cda42-86e3-4552-9433-97f2fb360e91",
   "metadata": {},
   "outputs": [
    {
     "data": {
      "application/vnd.plotly.v1+json": {
       "config": {
        "plotlyServerURL": "https://plot.ly"
       },
       "data": [
        {
         "customdata": [
          [
           "Abreu, Bryan"
          ],
          [
           "Adam, Jason"
          ],
          [
           "Adon, Joan"
          ],
          [
           "Alcantara, Sandy"
          ],
          [
           "Anderson, Tyler"
          ],
          [
           "Armstrong, Shawn"
          ],
          [
           "Ashcraft, Graham"
          ],
          [
           "Banks, Tanner"
          ],
          [
           "Barlow, Scott"
          ],
          [
           "Barria, Jaime"
          ],
          [
           "Bassitt, Chris"
          ],
          [
           "Bednar, David"
          ],
          [
           "Bello, Brayan"
          ],
          [
           "Bickford, Phil"
          ],
          [
           "Bieber, Shane"
          ],
          [
           "Blackburn, Paul"
          ],
          [
           "Bradish, Kyle"
          ],
          [
           "Brash, Matt"
          ],
          [
           "Brasier, Ryan"
          ],
          [
           "Burke, Brock"
          ],
          [
           "Burnes, Corbin"
          ],
          [
           "Cabrera, Edward"
          ],
          [
           "Carrasco, Carlos"
          ],
          [
           "Castillo, Luis"
          ],
          [
           "Cease, Dylan"
          ],
          [
           "Chafin, Andrew"
          ],
          [
           "Civale, Aaron"
          ],
          [
           "Clase, Emmanuel"
          ],
          [
           "Clevinger, Mike"
          ],
          [
           "Cobb, Alex"
          ],
          [
           "Cole, Gerrit"
          ],
          [
           "Contreras, Roansy"
          ],
          [
           "Corbin, Patrick"
          ],
          [
           "Cortes, Nestor"
          ],
          [
           "Crawford, Kutter"
          ],
          [
           "Cueto, Johnny"
          ],
          [
           "Darvish, Yu"
          ],
          [
           "Davidson, Tucker"
          ],
          [
           "Davies, Zach"
          ],
          [
           "Detmers, Reid"
          ],
          [
           "Diekman, Jake"
          ],
          [
           "Doval, Camilo"
          ],
          [
           "Dunning, Dane"
          ],
          [
           "Duran, Jhoan"
          ],
          [
           "Eflin, Zach"
          ],
          [
           "Elder, Bryce"
          ],
          [
           "Eovaldi, Nathan"
          ],
          [
           "Faedo, Alex"
          ],
          [
           "Falter, Bailey"
          ],
          [
           "Finnegan, Kyle"
          ],
          [
           "Flexen, Chris"
          ],
          [
           "Floro, Dylan"
          ],
          [
           "Foley, Jason"
          ],
          [
           "Freeland, Kyle"
          ],
          [
           "Fried, Max"
          ],
          [
           "Fulmer, Michael"
          ],
          [
           "Gallegos, Giovanny"
          ],
          [
           "Gallen, Zac"
          ],
          [
           "Garrett, Braxton"
          ],
          [
           "Gausman, Kevin"
          ],
          [
           "Gibson, Kyle"
          ],
          [
           "Gilbert, Logan"
          ],
          [
           "Giolito, Lucas"
          ],
          [
           "Gomber, Austin"
          ],
          [
           "Gonsolin, Tony"
          ],
          [
           "Gonzales, Marco"
          ],
          [
           "Gore, MacKenzie"
          ],
          [
           "Graveman, Kendall"
          ],
          [
           "Gray, Jon"
          ],
          [
           "Gray, Josiah"
          ],
          [
           "Gray, Sonny"
          ],
          [
           "Greene, Hunter"
          ],
          [
           "Greinke, Zack"
          ],
          [
           "Hader, Josh"
          ],
          [
           "Heaney, Andrew"
          ],
          [
           "Hendricks, Kyle"
          ],
          [
           "Hentges, Sam"
          ],
          [
           "Hicks, Jordan"
          ],
          [
           "Hill, Rich"
          ],
          [
           "Holmes, Clay"
          ],
          [
           "Houck, Tanner"
          ],
          [
           "Houser, Adrian"
          ],
          [
           "Hudson, Dakota"
          ],
          [
           "Iglesias, Raisel"
          ],
          [
           "Irvin, Cole"
          ],
          [
           "Javier, Cristian"
          ],
          [
           "Jax, Griffin"
          ],
          [
           "Junis, Jakob"
          ],
          [
           "Kaprielian, James"
          ],
          [
           "Keller, Mitch"
          ],
          [
           "Kelly, Merrill"
          ],
          [
           "Kershaw, Clayton"
          ],
          [
           "Kikuchi, Yusei"
          ],
          [
           "Kimbrel, Craig"
          ],
          [
           "King, Michael"
          ],
          [
           "Kirby, George"
          ],
          [
           "Kluber, Corey"
          ],
          [
           "Kopech, Michael"
          ],
          [
           "Kremer, Dean"
          ],
          [
           "Lange, Alex"
          ],
          [
           "Lorenzen, Michael"
          ],
          [
           "Lugo, Seth"
          ],
          [
           "Lyles, Jordan"
          ],
          [
           "Lynn, Lance"
          ],
          [
           "Manaea, Sean"
          ],
          [
           "Manning, Matt"
          ],
          [
           "Manoah, Alek"
          ],
          [
           "Martin, Chris"
          ],
          [
           "Martinez, Nick"
          ],
          [
           "Maton, Phil"
          ],
          [
           "McClanahan, Shane"
          ],
          [
           "McHugh, Collin"
          ],
          [
           "Mikolas, Miles"
          ],
          [
           "Milner, Hoby"
          ],
          [
           "Minter, A.J."
          ],
          [
           "Montero, Rafael"
          ],
          [
           "Montgomery, Jordan"
          ],
          [
           "Moore, Matt"
          ],
          [
           "Morgan, Eli"
          ],
          [
           "Morton, Charlie"
          ],
          [
           "Musgrove, Joe"
          ],
          [
           "Neris, Hector"
          ],
          [
           "Nola, Aaron"
          ],
          [
           "Ober, Bailey"
          ],
          [
           "Ohtani, Shohei"
          ],
          [
           "Okert, Steven"
          ],
          [
           "Ottavino, Adam"
          ],
          [
           "Oviedo, Johan"
          ],
          [
           "Pallante, Andre"
          ],
          [
           "Payamps, Joel"
          ],
          [
           "Peralta, Freddy"
          ],
          [
           "Peralta, Wandy"
          ],
          [
           "Peterson, David"
          ],
          [
           "Phillips, Evan"
          ],
          [
           "Pivetta, Nick"
          ],
          [
           "Poche, Colin"
          ],
          [
           "Puk, A.J."
          ],
          [
           "Quantrill, Cal"
          ],
          [
           "Raley, Brooks"
          ],
          [
           "Richards, Trevor"
          ],
          [
           "Robertson, David"
          ],
          [
           "Rodriguez, Eduardo"
          ],
          [
           "Rogers, Taylor"
          ],
          [
           "Rogers, Tyler"
          ],
          [
           "Romano, Jordan"
          ],
          [
           "Ryan, Joe"
          ],
          [
           "Sandoval, Patrick"
          ],
          [
           "Scherzer, Max"
          ],
          [
           "Schmidt, Clarke"
          ],
          [
           "Scott, Tanner"
          ],
          [
           "Sears, JP"
          ],
          [
           "Severino, Luis"
          ],
          [
           "Sewald, Paul"
          ],
          [
           "Singer, Brady"
          ],
          [
           "Skubal, Tarik"
          ],
          [
           "Smith, Will"
          ],
          [
           "Smyly, Drew"
          ],
          [
           "Snell, Blake"
          ],
          [
           "Soto, Gregory"
          ],
          [
           "Stanek, Ryne"
          ],
          [
           "Steele, Justin"
          ],
          [
           "Stephan, Trevor"
          ],
          [
           "Stephenson, Robert"
          ],
          [
           "Stratton, Chris"
          ],
          [
           "Strider, Spencer"
          ],
          [
           "Stripling, Ross"
          ],
          [
           "Stroman, Marcus"
          ],
          [
           "Suter, Brent"
          ],
          [
           "Swanson, Erik"
          ],
          [
           "Syndergaard, Noah"
          ],
          [
           "Taillon, Jameson"
          ],
          [
           "Valdez, Framber"
          ],
          [
           "Verlander, Justin"
          ],
          [
           "Wacha, Michael"
          ],
          [
           "Wainwright, Adam"
          ],
          [
           "Walker, Taijuan"
          ],
          [
           "Webb, Logan"
          ],
          [
           "Wells, Tyler"
          ],
          [
           "Wheeler, Zack"
          ],
          [
           "Whitlock, Garrett"
          ],
          [
           "Williams, Devin"
          ],
          [
           "Williams, Trevor"
          ],
          [
           "Wilson, Bryse"
          ],
          [
           "Wilson, Steven"
          ],
          [
           "Winckowski, Josh"
          ],
          [
           "Wood, Alex"
          ],
          [
           "Woodruff, Brandon"
          ],
          [
           "Yarbrough, Ryan"
          ]
         ],
         "hovertemplate": "2022 Pitching+=%{x}<br>2023 ERA=%{y}<br>player_name=%{customdata[0]}<extra></extra>",
         "legendgroup": "",
         "marker": {
          "color": "#636efa",
          "symbol": "circle"
         },
         "mode": "markers",
         "name": "",
         "orientation": "v",
         "showlegend": false,
         "type": "scatter",
         "x": [
          106.07806396484375,
          110.7783203125,
          92.52725219726562,
          101.99945831298828,
          102.83031463623047,
          101.15196228027344,
          91.42143249511719,
          102.86302947998047,
          106.07707977294922,
          95.14311218261719,
          99.02667999267578,
          103.05313873291016,
          99.16987609863281,
          110.10111236572266,
          104.71985626220703,
          92.65828704833984,
          99.44783782958984,
          111.97303009033203,
          108.4288558959961,
          97.05529022216797,
          113.0220718383789,
          96.94161987304688,
          97.43120574951172,
          101.8255844116211,
          104.8198013305664,
          97.2619400024414,
          98.15258026123047,
          113.96788787841797,
          100.77051544189453,
          104.18258666992188,
          107.25139617919922,
          96.62934112548828,
          98.02689361572266,
          98.85133361816406,
          101.90545654296875,
          89.36687469482422,
          106.07286071777344,
          95.42267608642578,
          98.95349884033203,
          94.32342529296875,
          98.9349136352539,
          101.31056213378906,
          93.69377899169922,
          109.61324310302734,
          98.28485870361328,
          91.52056121826172,
          105.19219970703125,
          94.01981353759766,
          104.20685577392578,
          99.63220977783203,
          91.85276794433594,
          102.1700439453125,
          103.81229400634766,
          90.29656219482422,
          88.34365844726562,
          96.56315612792969,
          104.37593078613281,
          102.752685546875,
          101.8411636352539,
          110.8648910522461,
          93.77479553222656,
          93.38397216796875,
          98.73068237304688,
          97.79510498046875,
          97.2756118774414,
          90.94681549072266,
          99.03289794921875,
          103.07733917236328,
          98.1733627319336,
          96.71971130371094,
          100.4345703125,
          102.85570526123047,
          96.03630828857422,
          109.8998031616211,
          109.77107238769531,
          101.70710754394531,
          93.08043670654297,
          97.44844055175781,
          100.88748931884766,
          103.68035888671875,
          97.24764251708984,
          86.83880615234375,
          85.46463012695312,
          104.75383758544922,
          93.34998321533203,
          99.45035552978516,
          108.2428207397461,
          108.30860137939453,
          92.73029327392578,
          94.45362854003906,
          102.1135025024414,
          103.49359130859375,
          100.58901977539062,
          109.49818420410156,
          107.87740325927734,
          100.6037826538086,
          103.06253814697266,
          102.3968505859375,
          99.9329605102539,
          109.01990509033203,
          94.56957244873047,
          105.06159973144531,
          93.27412414550781,
          98.10867309570312,
          102.8514633178711,
          92.51911163330078,
          97.42850494384766,
          101.14322662353516,
          99.87947845458984,
          105.55120086669922,
          110.5793228149414,
          101.23860168457031,
          94.80583190917969,
          106.45613098144531,
          114.09551239013672,
          102.78102111816406,
          98.15453338623047,
          105.60040283203125,
          108.40586853027344,
          105.67455291748047,
          99.49980926513672,
          113.3775863647461,
          114.11940002441406,
          98.78246307373047,
          106.4562759399414,
          105.65516662597656,
          107.21488189697266,
          97.23440551757812,
          88.71560668945312,
          102.30538177490234,
          98.76704406738281,
          106.71885681152344,
          93.21331024169922,
          103.92962646484375,
          100.18534851074219,
          102.83570098876953,
          106.67571258544922,
          89.68762969970703,
          105.4410629272461,
          112.32014465332031,
          109.99642944335938,
          93.45635986328125,
          106.92164611816406,
          101.54004669189453,
          109.58715057373047,
          98.3873519897461,
          97.50157165527344,
          104.5113525390625,
          102.77532958984375,
          105.44386291503906,
          97.88834381103516,
          102.65833282470703,
          111.01004028320312,
          102.87371826171875,
          94.07127380371094,
          104.08594512939453,
          94.14351654052734,
          105.99761199951172,
          97.56665802001953,
          106.5112533569336,
          95.0821304321289,
          109.68476104736328,
          113.23074340820312,
          105.02275848388672,
          109.5471420288086,
          101.83248901367188,
          99.41313934326172,
          97.90538787841797,
          101.05261993408203,
          97.83918762207031,
          96.10887908935547,
          104.00213623046875,
          98.91830444335938,
          99.6886215209961,
          101.70487213134766,
          96.5372085571289,
          108.17662048339844,
          105.05828094482422,
          100.53257751464844,
          113.4889144897461,
          124.7444839477539,
          100.73078155517578,
          99.31389617919922,
          105.04714965820312,
          98.52535247802734,
          102.89710998535156,
          102.77012634277344,
          102.05704498291016
         ],
         "xaxis": "x",
         "y": [
          1.75,
          2.98,
          6.45,
          4.14,
          5.43,
          1.38,
          4.76,
          4.43,
          4.37,
          5.68,
          3.6,
          2,
          4.24,
          4.95,
          3.8,
          4.43,
          2.83,
          3.06,
          3.02,
          4.37,
          3.39,
          4.24,
          6.8,
          3.34,
          4.58,
          4.73,
          3.46,
          3.22,
          3.77,
          3.87,
          2.63,
          6.59,
          5.2,
          4.97,
          4.04,
          6.02,
          4.56,
          5.96,
          7,
          4.48,
          3.34,
          2.93,
          3.7,
          2.45,
          3.5,
          3.81,
          3.63,
          4.45,
          5.36,
          3.76,
          6.86,
          4.76,
          2.61,
          5.03,
          2.55,
          4.42,
          4.42,
          3.47,
          3.66,
          3.16,
          4.73,
          3.73,
          4.88,
          5.5,
          4.98,
          5.22,
          4.42,
          3.12,
          4.12,
          3.91,
          2.79,
          4.82,
          5.06,
          1.28,
          4.15,
          3.74,
          3.61,
          3.29,
          5.41,
          2.86,
          5.01,
          4.12,
          4.98,
          2.75,
          4.42,
          4.56,
          3.86,
          3.87,
          6.34,
          4.21,
          3.29,
          2.46,
          3.86,
          3.26,
          2.75,
          3.35,
          7.04,
          5.43,
          4.12,
          3.68,
          4.18,
          3.57,
          6.28,
          5.73,
          4.44,
          3.58,
          5.87,
          1.05,
          3.43,
          3,
          3.29,
          4.3,
          4.78,
          1.82,
          3.76,
          5.08,
          3.2,
          2.56,
          4.01,
          3.64,
          3.05,
          1.71,
          4.46,
          3.43,
          3.14,
          4.45,
          3.21,
          4.31,
          4.76,
          2.55,
          3.86,
          2.83,
          5.03,
          2.05,
          4.04,
          2.23,
          3.97,
          5.24,
          2.8,
          4.95,
          3.03,
          3.3,
          3.83,
          3.04,
          2.9,
          4.51,
          4.11,
          3.77,
          4.64,
          2.31,
          4.54,
          6.65,
          3.12,
          5.52,
          2.8,
          4.4,
          5,
          2.25,
          4.62,
          4.09,
          3.06,
          4.06,
          3.1,
          3.92,
          3.86,
          5.36,
          3.95,
          3.38,
          2.97,
          6.5,
          4.84,
          3.45,
          3.22,
          3.22,
          7.4,
          4.38,
          3.25,
          3.64,
          3.61,
          5.15,
          1.53,
          5.55,
          2.58,
          3.91,
          2.88,
          4.33,
          2.28,
          4.52
         ],
         "yaxis": "y"
        },
        {
         "mode": "lines",
         "name": "Linear Regression",
         "type": "scatter",
         "x": [
          106.07806396484375,
          110.7783203125,
          92.52725219726562,
          101.99945831298828,
          102.83031463623047,
          101.15196228027344,
          91.42143249511719,
          102.86302947998047,
          106.07707977294922,
          95.14311218261719,
          99.02667999267578,
          103.05313873291016,
          99.16987609863281,
          110.10111236572266,
          104.71985626220703,
          92.65828704833984,
          99.44783782958984,
          111.97303009033203,
          108.4288558959961,
          97.05529022216797,
          113.0220718383789,
          96.94161987304688,
          97.43120574951172,
          101.8255844116211,
          104.8198013305664,
          97.2619400024414,
          98.15258026123047,
          113.96788787841797,
          100.77051544189453,
          104.18258666992188,
          107.25139617919922,
          96.62934112548828,
          98.02689361572266,
          98.85133361816406,
          101.90545654296875,
          89.36687469482422,
          106.07286071777344,
          95.42267608642578,
          98.95349884033203,
          94.32342529296875,
          98.9349136352539,
          101.31056213378906,
          93.69377899169922,
          109.61324310302734,
          98.28485870361328,
          91.52056121826172,
          105.19219970703125,
          94.01981353759766,
          104.20685577392578,
          99.63220977783203,
          91.85276794433594,
          102.1700439453125,
          103.81229400634766,
          90.29656219482422,
          88.34365844726562,
          96.56315612792969,
          104.37593078613281,
          102.752685546875,
          101.8411636352539,
          110.8648910522461,
          93.77479553222656,
          93.38397216796875,
          98.73068237304688,
          97.79510498046875,
          97.2756118774414,
          90.94681549072266,
          99.03289794921875,
          103.07733917236328,
          98.1733627319336,
          96.71971130371094,
          100.4345703125,
          102.85570526123047,
          96.03630828857422,
          109.8998031616211,
          109.77107238769531,
          101.70710754394531,
          93.08043670654297,
          97.44844055175781,
          100.88748931884766,
          103.68035888671875,
          97.24764251708984,
          86.83880615234375,
          85.46463012695312,
          104.75383758544922,
          93.34998321533203,
          99.45035552978516,
          108.2428207397461,
          108.30860137939453,
          92.73029327392578,
          94.45362854003906,
          102.1135025024414,
          103.49359130859375,
          100.58901977539062,
          109.49818420410156,
          107.87740325927734,
          100.6037826538086,
          103.06253814697266,
          102.3968505859375,
          99.9329605102539,
          109.01990509033203,
          94.56957244873047,
          105.06159973144531,
          93.27412414550781,
          98.10867309570312,
          102.8514633178711,
          92.51911163330078,
          97.42850494384766,
          101.14322662353516,
          99.87947845458984,
          105.55120086669922,
          110.5793228149414,
          101.23860168457031,
          94.80583190917969,
          106.45613098144531,
          114.09551239013672,
          102.78102111816406,
          98.15453338623047,
          105.60040283203125,
          108.40586853027344,
          105.67455291748047,
          99.49980926513672,
          113.3775863647461,
          114.11940002441406,
          98.78246307373047,
          106.4562759399414,
          105.65516662597656,
          107.21488189697266,
          97.23440551757812,
          88.71560668945312,
          102.30538177490234,
          98.76704406738281,
          106.71885681152344,
          93.21331024169922,
          103.92962646484375,
          100.18534851074219,
          102.83570098876953,
          106.67571258544922,
          89.68762969970703,
          105.4410629272461,
          112.32014465332031,
          109.99642944335938,
          93.45635986328125,
          106.92164611816406,
          101.54004669189453,
          109.58715057373047,
          98.3873519897461,
          97.50157165527344,
          104.5113525390625,
          102.77532958984375,
          105.44386291503906,
          97.88834381103516,
          102.65833282470703,
          111.01004028320312,
          102.87371826171875,
          94.07127380371094,
          104.08594512939453,
          94.14351654052734,
          105.99761199951172,
          97.56665802001953,
          106.5112533569336,
          95.0821304321289,
          109.68476104736328,
          113.23074340820312,
          105.02275848388672,
          109.5471420288086,
          101.83248901367188,
          99.41313934326172,
          97.90538787841797,
          101.05261993408203,
          97.83918762207031,
          96.10887908935547,
          104.00213623046875,
          98.91830444335938,
          99.6886215209961,
          101.70487213134766,
          96.5372085571289,
          108.17662048339844,
          105.05828094482422,
          100.53257751464844,
          113.4889144897461,
          124.7444839477539,
          100.73078155517578,
          99.31389617919922,
          105.04714965820312,
          98.52535247802734,
          102.89710998535156,
          102.77012634277344,
          102.05704498291016
         ],
         "y": [
          3.6385574340820312,
          3.2784929275512695,
          4.6766204833984375,
          3.9509997367858887,
          3.8873519897460938,
          4.015922546386719,
          4.761332035064697,
          3.884845733642578,
          3.6386327743530273,
          4.476231575012207,
          4.178730010986328,
          3.8702826499938965,
          4.167760848999023,
          3.3303709030151367,
          3.742603302001953,
          4.666582107543945,
          4.146467208862305,
          3.1869726181030273,
          3.4584741592407227,
          4.32974910736084,
          3.1066102981567383,
          4.338456630706787,
          4.300951957702637,
          3.9643197059631348,
          3.7349472045898438,
          4.313918590545654,
          4.245690822601318,
          3.03415584564209,
          4.045143127441406,
          3.7837610244750977,
          3.548673629760742,
          4.36237907409668,
          4.255319118499756,
          4.19216251373291,
          3.9582009315490723,
          4.918721675872803,
          3.638956069946289,
          4.454815864562988,
          4.184336185455322,
          4.5390238761901855,
          4.185760021209717,
          4.003772735595703,
          4.587258338928223,
          3.3677444458007812,
          4.235557556152344,
          4.753737926483154,
          3.706418991088867,
          4.562282085418701,
          3.7819018363952637,
          4.132343292236328,
          4.7282891273498535,
          3.937932014465332,
          3.812127113342285,
          4.847502708435059,
          4.997105598449707,
          4.367448806762695,
          3.768949508666992,
          3.893298625946045,
          3.9631261825561523,
          3.2718610763549805,
          4.581051826477051,
          4.61099100112915,
          4.201405048370361,
          4.273075103759766,
          4.312870979309082,
          4.797689914703369,
          4.178254127502441,
          3.8684287071228027,
          4.244098663330078,
          4.3554558753967285,
          4.070878505706787,
          3.885406970977783,
          4.407808303833008,
          3.345791816711426,
          3.355653762817383,
          3.973395347595215,
          4.634243488311768,
          4.299631595611572,
          4.036182403564453,
          3.8222341537475586,
          4.315013885498047,
          5.112384796142578,
          5.217653751373291,
          3.739999771118164,
          4.613595008850098,
          4.146274566650391,
          3.4727258682250977,
          3.467686653137207,
          4.661066055297852,
          4.529049873352051,
          3.942263603210449,
          3.8365416526794434,
          4.059046745300293,
          3.376558303833008,
          3.5007190704345703,
          4.057916164398193,
          3.8695626258850098,
          3.9205574989318848,
          4.109304428100586,
          3.4131975173950195,
          4.520167827606201,
          3.716423988342285,
          4.619406223297119,
          4.249054431915283,
          3.8857316970825195,
          4.677243709564209,
          4.301158905029297,
          4.016591548919678,
          4.113401412963867,
          3.67891788482666,
          3.2937374114990234,
          4.0092854499816895,
          4.502068996429443,
          3.60959529876709,
          3.024378776550293,
          3.8911280632019043,
          4.245541095733643,
          3.6751489639282227,
          3.460235595703125,
          3.669468879699707,
          4.142486095428467,
          3.079376220703125,
          3.0225486755371094,
          4.197438716888428,
          3.6095848083496094,
          3.6709537506103516,
          3.551471710205078,
          4.316027641296387,
          4.968612194061279,
          3.9275646209716797,
          4.198619842529297,
          3.5894689559936523,
          4.6240644454956055,
          3.8031387329101562,
          4.089970111846924,
          3.886939525604248,
          3.5927743911743164,
          4.894150257110596,
          3.6873550415039062,
          3.160381317138672,
          3.338390350341797,
          4.605445861816406,
          3.573934555053711,
          3.9861931800842285,
          3.3697433471679688,
          4.227705955505371,
          4.29556131362915,
          3.758575439453125,
          3.891563892364502,
          3.687140464782715,
          4.265932559967041,
          3.900526523590088,
          3.2607421875,
          3.8840270042419434,
          4.558340072631836,
          3.791163921356201,
          4.5528059005737305,
          3.6447200775146484,
          4.2905755043029785,
          3.605372428894043,
          4.480903148651123,
          3.3622655868530273,
          3.0906248092651367,
          3.7193994522094727,
          3.372807502746582,
          3.9637904167175293,
          4.149125576019287,
          4.264626979827881,
          4.023532867431641,
          4.269698143005371,
          4.402248859405518,
          3.7975845336914062,
          4.187032222747803,
          4.128022193908691,
          3.9735665321350098,
          4.369436740875244,
          3.477797508239746,
          3.716677665710449,
          4.063370704650879,
          3.070847511291504,
          2.2086124420166016,
          4.048187255859375,
          4.1567277908325195,
          3.717531204223633,
          4.217134475708008,
          3.882235050201416,
          3.8919625282287598,
          3.9465885162353516
         ]
        }
       ],
       "layout": {
        "autosize": true,
        "hovermode": "closest",
        "legend": {
         "tracegroupgap": 0
        },
        "template": {
         "data": {
          "bar": [
           {
            "error_x": {
             "color": "#2a3f5f"
            },
            "error_y": {
             "color": "#2a3f5f"
            },
            "marker": {
             "line": {
              "color": "#E5ECF6",
              "width": 0.5
             },
             "pattern": {
              "fillmode": "overlay",
              "size": 10,
              "solidity": 0.2
             }
            },
            "type": "bar"
           }
          ],
          "barpolar": [
           {
            "marker": {
             "line": {
              "color": "#E5ECF6",
              "width": 0.5
             },
             "pattern": {
              "fillmode": "overlay",
              "size": 10,
              "solidity": 0.2
             }
            },
            "type": "barpolar"
           }
          ],
          "carpet": [
           {
            "aaxis": {
             "endlinecolor": "#2a3f5f",
             "gridcolor": "white",
             "linecolor": "white",
             "minorgridcolor": "white",
             "startlinecolor": "#2a3f5f"
            },
            "baxis": {
             "endlinecolor": "#2a3f5f",
             "gridcolor": "white",
             "linecolor": "white",
             "minorgridcolor": "white",
             "startlinecolor": "#2a3f5f"
            },
            "type": "carpet"
           }
          ],
          "choropleth": [
           {
            "colorbar": {
             "outlinewidth": 0,
             "ticks": ""
            },
            "type": "choropleth"
           }
          ],
          "contour": [
           {
            "colorbar": {
             "outlinewidth": 0,
             "ticks": ""
            },
            "colorscale": [
             [
              0,
              "#0d0887"
             ],
             [
              0.1111111111111111,
              "#46039f"
             ],
             [
              0.2222222222222222,
              "#7201a8"
             ],
             [
              0.3333333333333333,
              "#9c179e"
             ],
             [
              0.4444444444444444,
              "#bd3786"
             ],
             [
              0.5555555555555556,
              "#d8576b"
             ],
             [
              0.6666666666666666,
              "#ed7953"
             ],
             [
              0.7777777777777778,
              "#fb9f3a"
             ],
             [
              0.8888888888888888,
              "#fdca26"
             ],
             [
              1,
              "#f0f921"
             ]
            ],
            "type": "contour"
           }
          ],
          "contourcarpet": [
           {
            "colorbar": {
             "outlinewidth": 0,
             "ticks": ""
            },
            "type": "contourcarpet"
           }
          ],
          "heatmap": [
           {
            "colorbar": {
             "outlinewidth": 0,
             "ticks": ""
            },
            "colorscale": [
             [
              0,
              "#0d0887"
             ],
             [
              0.1111111111111111,
              "#46039f"
             ],
             [
              0.2222222222222222,
              "#7201a8"
             ],
             [
              0.3333333333333333,
              "#9c179e"
             ],
             [
              0.4444444444444444,
              "#bd3786"
             ],
             [
              0.5555555555555556,
              "#d8576b"
             ],
             [
              0.6666666666666666,
              "#ed7953"
             ],
             [
              0.7777777777777778,
              "#fb9f3a"
             ],
             [
              0.8888888888888888,
              "#fdca26"
             ],
             [
              1,
              "#f0f921"
             ]
            ],
            "type": "heatmap"
           }
          ],
          "heatmapgl": [
           {
            "colorbar": {
             "outlinewidth": 0,
             "ticks": ""
            },
            "colorscale": [
             [
              0,
              "#0d0887"
             ],
             [
              0.1111111111111111,
              "#46039f"
             ],
             [
              0.2222222222222222,
              "#7201a8"
             ],
             [
              0.3333333333333333,
              "#9c179e"
             ],
             [
              0.4444444444444444,
              "#bd3786"
             ],
             [
              0.5555555555555556,
              "#d8576b"
             ],
             [
              0.6666666666666666,
              "#ed7953"
             ],
             [
              0.7777777777777778,
              "#fb9f3a"
             ],
             [
              0.8888888888888888,
              "#fdca26"
             ],
             [
              1,
              "#f0f921"
             ]
            ],
            "type": "heatmapgl"
           }
          ],
          "histogram": [
           {
            "marker": {
             "pattern": {
              "fillmode": "overlay",
              "size": 10,
              "solidity": 0.2
             }
            },
            "type": "histogram"
           }
          ],
          "histogram2d": [
           {
            "colorbar": {
             "outlinewidth": 0,
             "ticks": ""
            },
            "colorscale": [
             [
              0,
              "#0d0887"
             ],
             [
              0.1111111111111111,
              "#46039f"
             ],
             [
              0.2222222222222222,
              "#7201a8"
             ],
             [
              0.3333333333333333,
              "#9c179e"
             ],
             [
              0.4444444444444444,
              "#bd3786"
             ],
             [
              0.5555555555555556,
              "#d8576b"
             ],
             [
              0.6666666666666666,
              "#ed7953"
             ],
             [
              0.7777777777777778,
              "#fb9f3a"
             ],
             [
              0.8888888888888888,
              "#fdca26"
             ],
             [
              1,
              "#f0f921"
             ]
            ],
            "type": "histogram2d"
           }
          ],
          "histogram2dcontour": [
           {
            "colorbar": {
             "outlinewidth": 0,
             "ticks": ""
            },
            "colorscale": [
             [
              0,
              "#0d0887"
             ],
             [
              0.1111111111111111,
              "#46039f"
             ],
             [
              0.2222222222222222,
              "#7201a8"
             ],
             [
              0.3333333333333333,
              "#9c179e"
             ],
             [
              0.4444444444444444,
              "#bd3786"
             ],
             [
              0.5555555555555556,
              "#d8576b"
             ],
             [
              0.6666666666666666,
              "#ed7953"
             ],
             [
              0.7777777777777778,
              "#fb9f3a"
             ],
             [
              0.8888888888888888,
              "#fdca26"
             ],
             [
              1,
              "#f0f921"
             ]
            ],
            "type": "histogram2dcontour"
           }
          ],
          "mesh3d": [
           {
            "colorbar": {
             "outlinewidth": 0,
             "ticks": ""
            },
            "type": "mesh3d"
           }
          ],
          "parcoords": [
           {
            "line": {
             "colorbar": {
              "outlinewidth": 0,
              "ticks": ""
             }
            },
            "type": "parcoords"
           }
          ],
          "pie": [
           {
            "automargin": true,
            "type": "pie"
           }
          ],
          "scatter": [
           {
            "fillpattern": {
             "fillmode": "overlay",
             "size": 10,
             "solidity": 0.2
            },
            "type": "scatter"
           }
          ],
          "scatter3d": [
           {
            "line": {
             "colorbar": {
              "outlinewidth": 0,
              "ticks": ""
             }
            },
            "marker": {
             "colorbar": {
              "outlinewidth": 0,
              "ticks": ""
             }
            },
            "type": "scatter3d"
           }
          ],
          "scattercarpet": [
           {
            "marker": {
             "colorbar": {
              "outlinewidth": 0,
              "ticks": ""
             }
            },
            "type": "scattercarpet"
           }
          ],
          "scattergeo": [
           {
            "marker": {
             "colorbar": {
              "outlinewidth": 0,
              "ticks": ""
             }
            },
            "type": "scattergeo"
           }
          ],
          "scattergl": [
           {
            "marker": {
             "colorbar": {
              "outlinewidth": 0,
              "ticks": ""
             }
            },
            "type": "scattergl"
           }
          ],
          "scattermapbox": [
           {
            "marker": {
             "colorbar": {
              "outlinewidth": 0,
              "ticks": ""
             }
            },
            "type": "scattermapbox"
           }
          ],
          "scatterpolar": [
           {
            "marker": {
             "colorbar": {
              "outlinewidth": 0,
              "ticks": ""
             }
            },
            "type": "scatterpolar"
           }
          ],
          "scatterpolargl": [
           {
            "marker": {
             "colorbar": {
              "outlinewidth": 0,
              "ticks": ""
             }
            },
            "type": "scatterpolargl"
           }
          ],
          "scatterternary": [
           {
            "marker": {
             "colorbar": {
              "outlinewidth": 0,
              "ticks": ""
             }
            },
            "type": "scatterternary"
           }
          ],
          "surface": [
           {
            "colorbar": {
             "outlinewidth": 0,
             "ticks": ""
            },
            "colorscale": [
             [
              0,
              "#0d0887"
             ],
             [
              0.1111111111111111,
              "#46039f"
             ],
             [
              0.2222222222222222,
              "#7201a8"
             ],
             [
              0.3333333333333333,
              "#9c179e"
             ],
             [
              0.4444444444444444,
              "#bd3786"
             ],
             [
              0.5555555555555556,
              "#d8576b"
             ],
             [
              0.6666666666666666,
              "#ed7953"
             ],
             [
              0.7777777777777778,
              "#fb9f3a"
             ],
             [
              0.8888888888888888,
              "#fdca26"
             ],
             [
              1,
              "#f0f921"
             ]
            ],
            "type": "surface"
           }
          ],
          "table": [
           {
            "cells": {
             "fill": {
              "color": "#EBF0F8"
             },
             "line": {
              "color": "white"
             }
            },
            "header": {
             "fill": {
              "color": "#C8D4E3"
             },
             "line": {
              "color": "white"
             }
            },
            "type": "table"
           }
          ]
         },
         "layout": {
          "annotationdefaults": {
           "arrowcolor": "#2a3f5f",
           "arrowhead": 0,
           "arrowwidth": 1
          },
          "autotypenumbers": "strict",
          "coloraxis": {
           "colorbar": {
            "outlinewidth": 0,
            "ticks": ""
           }
          },
          "colorscale": {
           "diverging": [
            [
             0,
             "#8e0152"
            ],
            [
             0.1,
             "#c51b7d"
            ],
            [
             0.2,
             "#de77ae"
            ],
            [
             0.3,
             "#f1b6da"
            ],
            [
             0.4,
             "#fde0ef"
            ],
            [
             0.5,
             "#f7f7f7"
            ],
            [
             0.6,
             "#e6f5d0"
            ],
            [
             0.7,
             "#b8e186"
            ],
            [
             0.8,
             "#7fbc41"
            ],
            [
             0.9,
             "#4d9221"
            ],
            [
             1,
             "#276419"
            ]
           ],
           "sequential": [
            [
             0,
             "#0d0887"
            ],
            [
             0.1111111111111111,
             "#46039f"
            ],
            [
             0.2222222222222222,
             "#7201a8"
            ],
            [
             0.3333333333333333,
             "#9c179e"
            ],
            [
             0.4444444444444444,
             "#bd3786"
            ],
            [
             0.5555555555555556,
             "#d8576b"
            ],
            [
             0.6666666666666666,
             "#ed7953"
            ],
            [
             0.7777777777777778,
             "#fb9f3a"
            ],
            [
             0.8888888888888888,
             "#fdca26"
            ],
            [
             1,
             "#f0f921"
            ]
           ],
           "sequentialminus": [
            [
             0,
             "#0d0887"
            ],
            [
             0.1111111111111111,
             "#46039f"
            ],
            [
             0.2222222222222222,
             "#7201a8"
            ],
            [
             0.3333333333333333,
             "#9c179e"
            ],
            [
             0.4444444444444444,
             "#bd3786"
            ],
            [
             0.5555555555555556,
             "#d8576b"
            ],
            [
             0.6666666666666666,
             "#ed7953"
            ],
            [
             0.7777777777777778,
             "#fb9f3a"
            ],
            [
             0.8888888888888888,
             "#fdca26"
            ],
            [
             1,
             "#f0f921"
            ]
           ]
          },
          "colorway": [
           "#636efa",
           "#EF553B",
           "#00cc96",
           "#ab63fa",
           "#FFA15A",
           "#19d3f3",
           "#FF6692",
           "#B6E880",
           "#FF97FF",
           "#FECB52"
          ],
          "font": {
           "color": "#2a3f5f"
          },
          "geo": {
           "bgcolor": "white",
           "lakecolor": "white",
           "landcolor": "#E5ECF6",
           "showlakes": true,
           "showland": true,
           "subunitcolor": "white"
          },
          "hoverlabel": {
           "align": "left"
          },
          "hovermode": "closest",
          "mapbox": {
           "style": "light"
          },
          "paper_bgcolor": "white",
          "plot_bgcolor": "#E5ECF6",
          "polar": {
           "angularaxis": {
            "gridcolor": "white",
            "linecolor": "white",
            "ticks": ""
           },
           "bgcolor": "#E5ECF6",
           "radialaxis": {
            "gridcolor": "white",
            "linecolor": "white",
            "ticks": ""
           }
          },
          "scene": {
           "xaxis": {
            "backgroundcolor": "#E5ECF6",
            "gridcolor": "white",
            "gridwidth": 2,
            "linecolor": "white",
            "showbackground": true,
            "ticks": "",
            "zerolinecolor": "white"
           },
           "yaxis": {
            "backgroundcolor": "#E5ECF6",
            "gridcolor": "white",
            "gridwidth": 2,
            "linecolor": "white",
            "showbackground": true,
            "ticks": "",
            "zerolinecolor": "white"
           },
           "zaxis": {
            "backgroundcolor": "#E5ECF6",
            "gridcolor": "white",
            "gridwidth": 2,
            "linecolor": "white",
            "showbackground": true,
            "ticks": "",
            "zerolinecolor": "white"
           }
          },
          "shapedefaults": {
           "line": {
            "color": "#2a3f5f"
           }
          },
          "ternary": {
           "aaxis": {
            "gridcolor": "white",
            "linecolor": "white",
            "ticks": ""
           },
           "baxis": {
            "gridcolor": "white",
            "linecolor": "white",
            "ticks": ""
           },
           "bgcolor": "#E5ECF6",
           "caxis": {
            "gridcolor": "white",
            "linecolor": "white",
            "ticks": ""
           }
          },
          "title": {
           "x": 0.05
          },
          "xaxis": {
           "automargin": true,
           "gridcolor": "white",
           "linecolor": "white",
           "ticks": "",
           "title": {
            "standoff": 15
           },
           "zerolinecolor": "white",
           "zerolinewidth": 2
          },
          "yaxis": {
           "automargin": true,
           "gridcolor": "white",
           "linecolor": "white",
           "ticks": "",
           "title": {
            "standoff": 15
           },
           "zerolinecolor": "white",
           "zerolinewidth": 2
          }
         }
        },
        "title": {
         "text": "Scatter Plot with Linear Regression (R = 0.400)"
        },
        "xaxis": {
         "anchor": "y",
         "autorange": true,
         "domain": [
          0,
          1
         ],
         "range": [
          83.15117870915357,
          127.05793536555346
         ],
         "title": {
          "text": "2022 Pitching+"
         },
         "type": "linear"
        },
        "yaxis": {
         "anchor": "x",
         "autorange": true,
         "domain": [
          0,
          1
         ],
         "range": [
          0.5259708737864077,
          7.9240291262135925
         ],
         "title": {
          "text": "2023 ERA"
         },
         "type": "linear"
        }
       }
      },
      "image/png": "[encoded data removed]",
      "text/html": [
       "<div>                            <div id=\"117111a0-99fc-42ff-afbd-ca269ba11459\" class=\"plotly-graph-div\" style=\"height:525px; width:100%;\"></div>            <script type=\"text/javascript\">                require([\"plotly\"], function(Plotly) {                    window.PLOTLYENV=window.PLOTLYENV || {};                                    if (document.getElementById(\"117111a0-99fc-42ff-afbd-ca269ba11459\")) {                    Plotly.newPlot(                        \"117111a0-99fc-42ff-afbd-ca269ba11459\",                        [{\"customdata\":[[\"Abreu, Bryan\"],[\"Adam, Jason\"],[\"Adon, Joan\"],[\"Alcantara, Sandy\"],[\"Anderson, Tyler\"],[\"Armstrong, Shawn\"],[\"Ashcraft, Graham\"],[\"Banks, Tanner\"],[\"Barlow, Scott\"],[\"Barria, Jaime\"],[\"Bassitt, Chris\"],[\"Bednar, David\"],[\"Bello, Brayan\"],[\"Bickford, Phil\"],[\"Bieber, Shane\"],[\"Blackburn, Paul\"],[\"Bradish, Kyle\"],[\"Brash, Matt\"],[\"Brasier, Ryan\"],[\"Burke, Brock\"],[\"Burnes, Corbin\"],[\"Cabrera, Edward\"],[\"Carrasco, Carlos\"],[\"Castillo, Luis\"],[\"Cease, Dylan\"],[\"Chafin, Andrew\"],[\"Civale, Aaron\"],[\"Clase, Emmanuel\"],[\"Clevinger, Mike\"],[\"Cobb, Alex\"],[\"Cole, Gerrit\"],[\"Contreras, Roansy\"],[\"Corbin, Patrick\"],[\"Cortes, Nestor\"],[\"Crawford, Kutter\"],[\"Cueto, Johnny\"],[\"Darvish, Yu\"],[\"Davidson, Tucker\"],[\"Davies, Zach\"],[\"Detmers, Reid\"],[\"Diekman, Jake\"],[\"Doval, Camilo\"],[\"Dunning, Dane\"],[\"Duran, Jhoan\"],[\"Eflin, Zach\"],[\"Elder, Bryce\"],[\"Eovaldi, Nathan\"],[\"Faedo, Alex\"],[\"Falter, Bailey\"],[\"Finnegan, Kyle\"],[\"Flexen, Chris\"],[\"Floro, Dylan\"],[\"Foley, Jason\"],[\"Freeland, Kyle\"],[\"Fried, Max\"],[\"Fulmer, Michael\"],[\"Gallegos, Giovanny\"],[\"Gallen, Zac\"],[\"Garrett, Braxton\"],[\"Gausman, Kevin\"],[\"Gibson, Kyle\"],[\"Gilbert, Logan\"],[\"Giolito, Lucas\"],[\"Gomber, Austin\"],[\"Gonsolin, Tony\"],[\"Gonzales, Marco\"],[\"Gore, MacKenzie\"],[\"Graveman, Kendall\"],[\"Gray, Jon\"],[\"Gray, Josiah\"],[\"Gray, Sonny\"],[\"Greene, Hunter\"],[\"Greinke, Zack\"],[\"Hader, Josh\"],[\"Heaney, Andrew\"],[\"Hendricks, Kyle\"],[\"Hentges, Sam\"],[\"Hicks, Jordan\"],[\"Hill, Rich\"],[\"Holmes, Clay\"],[\"Houck, Tanner\"],[\"Houser, Adrian\"],[\"Hudson, Dakota\"],[\"Iglesias, Raisel\"],[\"Irvin, Cole\"],[\"Javier, Cristian\"],[\"Jax, Griffin\"],[\"Junis, Jakob\"],[\"Kaprielian, James\"],[\"Keller, Mitch\"],[\"Kelly, Merrill\"],[\"Kershaw, Clayton\"],[\"Kikuchi, Yusei\"],[\"Kimbrel, Craig\"],[\"King, Michael\"],[\"Kirby, George\"],[\"Kluber, Corey\"],[\"Kopech, Michael\"],[\"Kremer, Dean\"],[\"Lange, Alex\"],[\"Lorenzen, Michael\"],[\"Lugo, Seth\"],[\"Lyles, Jordan\"],[\"Lynn, Lance\"],[\"Manaea, Sean\"],[\"Manning, Matt\"],[\"Manoah, Alek\"],[\"Martin, Chris\"],[\"Martinez, Nick\"],[\"Maton, Phil\"],[\"McClanahan, Shane\"],[\"McHugh, Collin\"],[\"Mikolas, Miles\"],[\"Milner, Hoby\"],[\"Minter, A.J.\"],[\"Montero, Rafael\"],[\"Montgomery, Jordan\"],[\"Moore, Matt\"],[\"Morgan, Eli\"],[\"Morton, Charlie\"],[\"Musgrove, Joe\"],[\"Neris, Hector\"],[\"Nola, Aaron\"],[\"Ober, Bailey\"],[\"Ohtani, Shohei\"],[\"Okert, Steven\"],[\"Ottavino, Adam\"],[\"Oviedo, Johan\"],[\"Pallante, Andre\"],[\"Payamps, Joel\"],[\"Peralta, Freddy\"],[\"Peralta, Wandy\"],[\"Peterson, David\"],[\"Phillips, Evan\"],[\"Pivetta, Nick\"],[\"Poche, Colin\"],[\"Puk, A.J.\"],[\"Quantrill, Cal\"],[\"Raley, Brooks\"],[\"Richards, Trevor\"],[\"Robertson, David\"],[\"Rodriguez, Eduardo\"],[\"Rogers, Taylor\"],[\"Rogers, Tyler\"],[\"Romano, Jordan\"],[\"Ryan, Joe\"],[\"Sandoval, Patrick\"],[\"Scherzer, Max\"],[\"Schmidt, Clarke\"],[\"Scott, Tanner\"],[\"Sears, JP\"],[\"Severino, Luis\"],[\"Sewald, Paul\"],[\"Singer, Brady\"],[\"Skubal, Tarik\"],[\"Smith, Will\"],[\"Smyly, Drew\"],[\"Snell, Blake\"],[\"Soto, Gregory\"],[\"Stanek, Ryne\"],[\"Steele, Justin\"],[\"Stephan, Trevor\"],[\"Stephenson, Robert\"],[\"Stratton, Chris\"],[\"Strider, Spencer\"],[\"Stripling, Ross\"],[\"Stroman, Marcus\"],[\"Suter, Brent\"],[\"Swanson, Erik\"],[\"Syndergaard, Noah\"],[\"Taillon, Jameson\"],[\"Valdez, Framber\"],[\"Verlander, Justin\"],[\"Wacha, Michael\"],[\"Wainwright, Adam\"],[\"Walker, Taijuan\"],[\"Webb, Logan\"],[\"Wells, Tyler\"],[\"Wheeler, Zack\"],[\"Whitlock, Garrett\"],[\"Williams, Devin\"],[\"Williams, Trevor\"],[\"Wilson, Bryse\"],[\"Wilson, Steven\"],[\"Winckowski, Josh\"],[\"Wood, Alex\"],[\"Woodruff, Brandon\"],[\"Yarbrough, Ryan\"]],\"hovertemplate\":\"2022 Pitching+=%{x}<br>2023 ERA=%{y}<br>player_name=%{customdata[0]}<extra></extra>\",\"legendgroup\":\"\",\"marker\":{\"color\":\"#636efa\",\"symbol\":\"circle\"},\"mode\":\"markers\",\"name\":\"\",\"orientation\":\"v\",\"showlegend\":false,\"x\":[106.07806396484375,110.7783203125,92.52725219726562,101.99945831298828,102.83031463623047,101.15196228027344,91.42143249511719,102.86302947998047,106.07707977294922,95.14311218261719,99.02667999267578,103.05313873291016,99.16987609863281,110.10111236572266,104.71985626220703,92.65828704833984,99.44783782958984,111.97303009033203,108.4288558959961,97.05529022216797,113.0220718383789,96.94161987304688,97.43120574951172,101.8255844116211,104.8198013305664,97.2619400024414,98.15258026123047,113.96788787841797,100.77051544189453,104.18258666992188,107.25139617919922,96.62934112548828,98.02689361572266,98.85133361816406,101.90545654296875,89.36687469482422,106.07286071777344,95.42267608642578,98.95349884033203,94.32342529296875,98.9349136352539,101.31056213378906,93.69377899169922,109.61324310302734,98.28485870361328,91.52056121826172,105.19219970703125,94.01981353759766,104.20685577392578,99.63220977783203,91.85276794433594,102.1700439453125,103.81229400634766,90.29656219482422,88.34365844726562,96.56315612792969,104.37593078613281,102.752685546875,101.8411636352539,110.8648910522461,93.77479553222656,93.38397216796875,98.73068237304688,97.79510498046875,97.2756118774414,90.94681549072266,99.03289794921875,103.07733917236328,98.1733627319336,96.71971130371094,100.4345703125,102.85570526123047,96.03630828857422,109.8998031616211,109.77107238769531,101.70710754394531,93.08043670654297,97.44844055175781,100.88748931884766,103.68035888671875,97.24764251708984,86.83880615234375,85.46463012695312,104.75383758544922,93.34998321533203,99.45035552978516,108.2428207397461,108.30860137939453,92.73029327392578,94.45362854003906,102.1135025024414,103.49359130859375,100.58901977539062,109.49818420410156,107.87740325927734,100.6037826538086,103.06253814697266,102.3968505859375,99.9329605102539,109.01990509033203,94.56957244873047,105.06159973144531,93.27412414550781,98.10867309570312,102.8514633178711,92.51911163330078,97.42850494384766,101.14322662353516,99.87947845458984,105.55120086669922,110.5793228149414,101.23860168457031,94.80583190917969,106.45613098144531,114.09551239013672,102.78102111816406,98.15453338623047,105.60040283203125,108.40586853027344,105.67455291748047,99.49980926513672,113.3775863647461,114.11940002441406,98.78246307373047,106.4562759399414,105.65516662597656,107.21488189697266,97.23440551757812,88.71560668945312,102.30538177490234,98.76704406738281,106.71885681152344,93.21331024169922,103.92962646484375,100.18534851074219,102.83570098876953,106.67571258544922,89.68762969970703,105.4410629272461,112.32014465332031,109.99642944335938,93.45635986328125,106.92164611816406,101.54004669189453,109.58715057373047,98.3873519897461,97.50157165527344,104.5113525390625,102.77532958984375,105.44386291503906,97.88834381103516,102.65833282470703,111.01004028320312,102.87371826171875,94.07127380371094,104.08594512939453,94.14351654052734,105.99761199951172,97.56665802001953,106.5112533569336,95.0821304321289,109.68476104736328,113.23074340820312,105.02275848388672,109.5471420288086,101.83248901367188,99.41313934326172,97.90538787841797,101.05261993408203,97.83918762207031,96.10887908935547,104.00213623046875,98.91830444335938,99.6886215209961,101.70487213134766,96.5372085571289,108.17662048339844,105.05828094482422,100.53257751464844,113.4889144897461,124.7444839477539,100.73078155517578,99.31389617919922,105.04714965820312,98.52535247802734,102.89710998535156,102.77012634277344,102.05704498291016],\"xaxis\":\"x\",\"y\":[1.75,2.98,6.45,4.14,5.43,1.38,4.76,4.43,4.37,5.68,3.6,2.0,4.24,4.95,3.8,4.43,2.83,3.06,3.02,4.37,3.39,4.24,6.8,3.34,4.58,4.73,3.46,3.22,3.77,3.87,2.63,6.59,5.2,4.97,4.04,6.02,4.56,5.96,7.0,4.48,3.34,2.93,3.7,2.45,3.5,3.81,3.63,4.45,5.36,3.76,6.86,4.76,2.61,5.03,2.55,4.42,4.42,3.47,3.66,3.16,4.73,3.73,4.88,5.5,4.98,5.22,4.42,3.12,4.12,3.91,2.79,4.82,5.06,1.28,4.15,3.74,3.61,3.29,5.41,2.86,5.01,4.12,4.98,2.75,4.42,4.56,3.86,3.87,6.34,4.21,3.29,2.46,3.86,3.26,2.75,3.35,7.04,5.43,4.12,3.68,4.18,3.57,6.28,5.73,4.44,3.58,5.87,1.05,3.43,3.0,3.29,4.3,4.78,1.82,3.76,5.08,3.2,2.56,4.01,3.64,3.05,1.71,4.46,3.43,3.14,4.45,3.21,4.31,4.76,2.55,3.86,2.83,5.03,2.05,4.04,2.23,3.97,5.24,2.8,4.95,3.03,3.3,3.83,3.04,2.9,4.51,4.11,3.77,4.64,2.31,4.54,6.65,3.12,5.52,2.8,4.4,5.0,2.25,4.62,4.09,3.06,4.06,3.1,3.92,3.86,5.36,3.95,3.38,2.97,6.5,4.84,3.45,3.22,3.22,7.4,4.38,3.25,3.64,3.61,5.15,1.53,5.55,2.58,3.91,2.88,4.33,2.28,4.52],\"yaxis\":\"y\",\"type\":\"scatter\"},{\"mode\":\"lines\",\"name\":\"Linear Regression\",\"x\":[106.07806396484375,110.7783203125,92.52725219726562,101.99945831298828,102.83031463623047,101.15196228027344,91.42143249511719,102.86302947998047,106.07707977294922,95.14311218261719,99.02667999267578,103.05313873291016,99.16987609863281,110.10111236572266,104.71985626220703,92.65828704833984,99.44783782958984,111.97303009033203,108.4288558959961,97.05529022216797,113.0220718383789,96.94161987304688,97.43120574951172,101.8255844116211,104.8198013305664,97.2619400024414,98.15258026123047,113.96788787841797,100.77051544189453,104.18258666992188,107.25139617919922,96.62934112548828,98.02689361572266,98.85133361816406,101.90545654296875,89.36687469482422,106.07286071777344,95.42267608642578,98.95349884033203,94.32342529296875,98.9349136352539,101.31056213378906,93.69377899169922,109.61324310302734,98.28485870361328,91.52056121826172,105.19219970703125,94.01981353759766,104.20685577392578,99.63220977783203,91.85276794433594,102.1700439453125,103.81229400634766,90.29656219482422,88.34365844726562,96.56315612792969,104.37593078613281,102.752685546875,101.8411636352539,110.8648910522461,93.77479553222656,93.38397216796875,98.73068237304688,97.79510498046875,97.2756118774414,90.94681549072266,99.03289794921875,103.07733917236328,98.1733627319336,96.71971130371094,100.4345703125,102.85570526123047,96.03630828857422,109.8998031616211,109.77107238769531,101.70710754394531,93.08043670654297,97.44844055175781,100.88748931884766,103.68035888671875,97.24764251708984,86.83880615234375,85.46463012695312,104.75383758544922,93.34998321533203,99.45035552978516,108.2428207397461,108.30860137939453,92.73029327392578,94.45362854003906,102.1135025024414,103.49359130859375,100.58901977539062,109.49818420410156,107.87740325927734,100.6037826538086,103.06253814697266,102.3968505859375,99.9329605102539,109.01990509033203,94.56957244873047,105.06159973144531,93.27412414550781,98.10867309570312,102.8514633178711,92.51911163330078,97.42850494384766,101.14322662353516,99.87947845458984,105.55120086669922,110.5793228149414,101.23860168457031,94.80583190917969,106.45613098144531,114.09551239013672,102.78102111816406,98.15453338623047,105.60040283203125,108.40586853027344,105.67455291748047,99.49980926513672,113.3775863647461,114.11940002441406,98.78246307373047,106.4562759399414,105.65516662597656,107.21488189697266,97.23440551757812,88.71560668945312,102.30538177490234,98.76704406738281,106.71885681152344,93.21331024169922,103.92962646484375,100.18534851074219,102.83570098876953,106.67571258544922,89.68762969970703,105.4410629272461,112.32014465332031,109.99642944335938,93.45635986328125,106.92164611816406,101.54004669189453,109.58715057373047,98.3873519897461,97.50157165527344,104.5113525390625,102.77532958984375,105.44386291503906,97.88834381103516,102.65833282470703,111.01004028320312,102.87371826171875,94.07127380371094,104.08594512939453,94.14351654052734,105.99761199951172,97.56665802001953,106.5112533569336,95.0821304321289,109.68476104736328,113.23074340820312,105.02275848388672,109.5471420288086,101.83248901367188,99.41313934326172,97.90538787841797,101.05261993408203,97.83918762207031,96.10887908935547,104.00213623046875,98.91830444335938,99.6886215209961,101.70487213134766,96.5372085571289,108.17662048339844,105.05828094482422,100.53257751464844,113.4889144897461,124.7444839477539,100.73078155517578,99.31389617919922,105.04714965820312,98.52535247802734,102.89710998535156,102.77012634277344,102.05704498291016],\"y\":[3.6385574340820312,3.2784929275512695,4.6766204833984375,3.9509997367858887,3.8873519897460938,4.015922546386719,4.761332035064697,3.884845733642578,3.6386327743530273,4.476231575012207,4.178730010986328,3.8702826499938965,4.167760848999023,3.3303709030151367,3.742603302001953,4.666582107543945,4.146467208862305,3.1869726181030273,3.4584741592407227,4.32974910736084,3.1066102981567383,4.338456630706787,4.300951957702637,3.9643197059631348,3.7349472045898438,4.313918590545654,4.245690822601318,3.03415584564209,4.045143127441406,3.7837610244750977,3.548673629760742,4.36237907409668,4.255319118499756,4.19216251373291,3.9582009315490723,4.918721675872803,3.638956069946289,4.454815864562988,4.184336185455322,4.5390238761901855,4.185760021209717,4.003772735595703,4.587258338928223,3.3677444458007812,4.235557556152344,4.753737926483154,3.706418991088867,4.562282085418701,3.7819018363952637,4.132343292236328,4.7282891273498535,3.937932014465332,3.812127113342285,4.847502708435059,4.997105598449707,4.367448806762695,3.768949508666992,3.893298625946045,3.9631261825561523,3.2718610763549805,4.581051826477051,4.61099100112915,4.201405048370361,4.273075103759766,4.312870979309082,4.797689914703369,4.178254127502441,3.8684287071228027,4.244098663330078,4.3554558753967285,4.070878505706787,3.885406970977783,4.407808303833008,3.345791816711426,3.355653762817383,3.973395347595215,4.634243488311768,4.299631595611572,4.036182403564453,3.8222341537475586,4.315013885498047,5.112384796142578,5.217653751373291,3.739999771118164,4.613595008850098,4.146274566650391,3.4727258682250977,3.467686653137207,4.661066055297852,4.529049873352051,3.942263603210449,3.8365416526794434,4.059046745300293,3.376558303833008,3.5007190704345703,4.057916164398193,3.8695626258850098,3.9205574989318848,4.109304428100586,3.4131975173950195,4.520167827606201,3.716423988342285,4.619406223297119,4.249054431915283,3.8857316970825195,4.677243709564209,4.301158905029297,4.016591548919678,4.113401412963867,3.67891788482666,3.2937374114990234,4.0092854499816895,4.502068996429443,3.60959529876709,3.024378776550293,3.8911280632019043,4.245541095733643,3.6751489639282227,3.460235595703125,3.669468879699707,4.142486095428467,3.079376220703125,3.0225486755371094,4.197438716888428,3.6095848083496094,3.6709537506103516,3.551471710205078,4.316027641296387,4.968612194061279,3.9275646209716797,4.198619842529297,3.5894689559936523,4.6240644454956055,3.8031387329101562,4.089970111846924,3.886939525604248,3.5927743911743164,4.894150257110596,3.6873550415039062,3.160381317138672,3.338390350341797,4.605445861816406,3.573934555053711,3.9861931800842285,3.3697433471679688,4.227705955505371,4.29556131362915,3.758575439453125,3.891563892364502,3.687140464782715,4.265932559967041,3.900526523590088,3.2607421875,3.8840270042419434,4.558340072631836,3.791163921356201,4.5528059005737305,3.6447200775146484,4.2905755043029785,3.605372428894043,4.480903148651123,3.3622655868530273,3.0906248092651367,3.7193994522094727,3.372807502746582,3.9637904167175293,4.149125576019287,4.264626979827881,4.023532867431641,4.269698143005371,4.402248859405518,3.7975845336914062,4.187032222747803,4.128022193908691,3.9735665321350098,4.369436740875244,3.477797508239746,3.716677665710449,4.063370704650879,3.070847511291504,2.2086124420166016,4.048187255859375,4.1567277908325195,3.717531204223633,4.217134475708008,3.882235050201416,3.8919625282287598,3.9465885162353516],\"type\":\"scatter\"}],                        {\"template\":{\"data\":{\"histogram2dcontour\":[{\"type\":\"histogram2dcontour\",\"colorbar\":{\"outlinewidth\":0,\"ticks\":\"\"},\"colorscale\":[[0.0,\"#0d0887\"],[0.1111111111111111,\"#46039f\"],[0.2222222222222222,\"#7201a8\"],[0.3333333333333333,\"#9c179e\"],[0.4444444444444444,\"#bd3786\"],[0.5555555555555556,\"#d8576b\"],[0.6666666666666666,\"#ed7953\"],[0.7777777777777778,\"#fb9f3a\"],[0.8888888888888888,\"#fdca26\"],[1.0,\"#f0f921\"]]}],\"choropleth\":[{\"type\":\"choropleth\",\"colorbar\":{\"outlinewidth\":0,\"ticks\":\"\"}}],\"histogram2d\":[{\"type\":\"histogram2d\",\"colorbar\":{\"outlinewidth\":0,\"ticks\":\"\"},\"colorscale\":[[0.0,\"#0d0887\"],[0.1111111111111111,\"#46039f\"],[0.2222222222222222,\"#7201a8\"],[0.3333333333333333,\"#9c179e\"],[0.4444444444444444,\"#bd3786\"],[0.5555555555555556,\"#d8576b\"],[0.6666666666666666,\"#ed7953\"],[0.7777777777777778,\"#fb9f3a\"],[0.8888888888888888,\"#fdca26\"],[1.0,\"#f0f921\"]]}],\"heatmap\":[{\"type\":\"heatmap\",\"colorbar\":{\"outlinewidth\":0,\"ticks\":\"\"},\"colorscale\":[[0.0,\"#0d0887\"],[0.1111111111111111,\"#46039f\"],[0.2222222222222222,\"#7201a8\"],[0.3333333333333333,\"#9c179e\"],[0.4444444444444444,\"#bd3786\"],[0.5555555555555556,\"#d8576b\"],[0.6666666666666666,\"#ed7953\"],[0.7777777777777778,\"#fb9f3a\"],[0.8888888888888888,\"#fdca26\"],[1.0,\"#f0f921\"]]}],\"heatmapgl\":[{\"type\":\"heatmapgl\",\"colorbar\":{\"outlinewidth\":0,\"ticks\":\"\"},\"colorscale\":[[0.0,\"#0d0887\"],[0.1111111111111111,\"#46039f\"],[0.2222222222222222,\"#7201a8\"],[0.3333333333333333,\"#9c179e\"],[0.4444444444444444,\"#bd3786\"],[0.5555555555555556,\"#d8576b\"],[0.6666666666666666,\"#ed7953\"],[0.7777777777777778,\"#fb9f3a\"],[0.8888888888888888,\"#fdca26\"],[1.0,\"#f0f921\"]]}],\"contourcarpet\":[{\"type\":\"contourcarpet\",\"colorbar\":{\"outlinewidth\":0,\"ticks\":\"\"}}],\"contour\":[{\"type\":\"contour\",\"colorbar\":{\"outlinewidth\":0,\"ticks\":\"\"},\"colorscale\":[[0.0,\"#0d0887\"],[0.1111111111111111,\"#46039f\"],[0.2222222222222222,\"#7201a8\"],[0.3333333333333333,\"#9c179e\"],[0.4444444444444444,\"#bd3786\"],[0.5555555555555556,\"#d8576b\"],[0.6666666666666666,\"#ed7953\"],[0.7777777777777778,\"#fb9f3a\"],[0.8888888888888888,\"#fdca26\"],[1.0,\"#f0f921\"]]}],\"surface\":[{\"type\":\"surface\",\"colorbar\":{\"outlinewidth\":0,\"ticks\":\"\"},\"colorscale\":[[0.0,\"#0d0887\"],[0.1111111111111111,\"#46039f\"],[0.2222222222222222,\"#7201a8\"],[0.3333333333333333,\"#9c179e\"],[0.4444444444444444,\"#bd3786\"],[0.5555555555555556,\"#d8576b\"],[0.6666666666666666,\"#ed7953\"],[0.7777777777777778,\"#fb9f3a\"],[0.8888888888888888,\"#fdca26\"],[1.0,\"#f0f921\"]]}],\"mesh3d\":[{\"type\":\"mesh3d\",\"colorbar\":{\"outlinewidth\":0,\"ticks\":\"\"}}],\"scatter\":[{\"fillpattern\":{\"fillmode\":\"overlay\",\"size\":10,\"solidity\":0.2},\"type\":\"scatter\"}],\"parcoords\":[{\"type\":\"parcoords\",\"line\":{\"colorbar\":{\"outlinewidth\":0,\"ticks\":\"\"}}}],\"scatterpolargl\":[{\"type\":\"scatterpolargl\",\"marker\":{\"colorbar\":{\"outlinewidth\":0,\"ticks\":\"\"}}}],\"bar\":[{\"error_x\":{\"color\":\"#2a3f5f\"},\"error_y\":{\"color\":\"#2a3f5f\"},\"marker\":{\"line\":{\"color\":\"#E5ECF6\",\"width\":0.5},\"pattern\":{\"fillmode\":\"overlay\",\"size\":10,\"solidity\":0.2}},\"type\":\"bar\"}],\"scattergeo\":[{\"type\":\"scattergeo\",\"marker\":{\"colorbar\":{\"outlinewidth\":0,\"ticks\":\"\"}}}],\"scatterpolar\":[{\"type\":\"scatterpolar\",\"marker\":{\"colorbar\":{\"outlinewidth\":0,\"ticks\":\"\"}}}],\"histogram\":[{\"marker\":{\"pattern\":{\"fillmode\":\"overlay\",\"size\":10,\"solidity\":0.2}},\"type\":\"histogram\"}],\"scattergl\":[{\"type\":\"scattergl\",\"marker\":{\"colorbar\":{\"outlinewidth\":0,\"ticks\":\"\"}}}],\"scatter3d\":[{\"type\":\"scatter3d\",\"line\":{\"colorbar\":{\"outlinewidth\":0,\"ticks\":\"\"}},\"marker\":{\"colorbar\":{\"outlinewidth\":0,\"ticks\":\"\"}}}],\"scattermapbox\":[{\"type\":\"scattermapbox\",\"marker\":{\"colorbar\":{\"outlinewidth\":0,\"ticks\":\"\"}}}],\"scatterternary\":[{\"type\":\"scatterternary\",\"marker\":{\"colorbar\":{\"outlinewidth\":0,\"ticks\":\"\"}}}],\"scattercarpet\":[{\"type\":\"scattercarpet\",\"marker\":{\"colorbar\":{\"outlinewidth\":0,\"ticks\":\"\"}}}],\"carpet\":[{\"aaxis\":{\"endlinecolor\":\"#2a3f5f\",\"gridcolor\":\"white\",\"linecolor\":\"white\",\"minorgridcolor\":\"white\",\"startlinecolor\":\"#2a3f5f\"},\"baxis\":{\"endlinecolor\":\"#2a3f5f\",\"gridcolor\":\"white\",\"linecolor\":\"white\",\"minorgridcolor\":\"white\",\"startlinecolor\":\"#2a3f5f\"},\"type\":\"carpet\"}],\"table\":[{\"cells\":{\"fill\":{\"color\":\"#EBF0F8\"},\"line\":{\"color\":\"white\"}},\"header\":{\"fill\":{\"color\":\"#C8D4E3\"},\"line\":{\"color\":\"white\"}},\"type\":\"table\"}],\"barpolar\":[{\"marker\":{\"line\":{\"color\":\"#E5ECF6\",\"width\":0.5},\"pattern\":{\"fillmode\":\"overlay\",\"size\":10,\"solidity\":0.2}},\"type\":\"barpolar\"}],\"pie\":[{\"automargin\":true,\"type\":\"pie\"}]},\"layout\":{\"autotypenumbers\":\"strict\",\"colorway\":[\"#636efa\",\"#EF553B\",\"#00cc96\",\"#ab63fa\",\"#FFA15A\",\"#19d3f3\",\"#FF6692\",\"#B6E880\",\"#FF97FF\",\"#FECB52\"],\"font\":{\"color\":\"#2a3f5f\"},\"hovermode\":\"closest\",\"hoverlabel\":{\"align\":\"left\"},\"paper_bgcolor\":\"white\",\"plot_bgcolor\":\"#E5ECF6\",\"polar\":{\"bgcolor\":\"#E5ECF6\",\"angularaxis\":{\"gridcolor\":\"white\",\"linecolor\":\"white\",\"ticks\":\"\"},\"radialaxis\":{\"gridcolor\":\"white\",\"linecolor\":\"white\",\"ticks\":\"\"}},\"ternary\":{\"bgcolor\":\"#E5ECF6\",\"aaxis\":{\"gridcolor\":\"white\",\"linecolor\":\"white\",\"ticks\":\"\"},\"baxis\":{\"gridcolor\":\"white\",\"linecolor\":\"white\",\"ticks\":\"\"},\"caxis\":{\"gridcolor\":\"white\",\"linecolor\":\"white\",\"ticks\":\"\"}},\"coloraxis\":{\"colorbar\":{\"outlinewidth\":0,\"ticks\":\"\"}},\"colorscale\":{\"sequential\":[[0.0,\"#0d0887\"],[0.1111111111111111,\"#46039f\"],[0.2222222222222222,\"#7201a8\"],[0.3333333333333333,\"#9c179e\"],[0.4444444444444444,\"#bd3786\"],[0.5555555555555556,\"#d8576b\"],[0.6666666666666666,\"#ed7953\"],[0.7777777777777778,\"#fb9f3a\"],[0.8888888888888888,\"#fdca26\"],[1.0,\"#f0f921\"]],\"sequentialminus\":[[0.0,\"#0d0887\"],[0.1111111111111111,\"#46039f\"],[0.2222222222222222,\"#7201a8\"],[0.3333333333333333,\"#9c179e\"],[0.4444444444444444,\"#bd3786\"],[0.5555555555555556,\"#d8576b\"],[0.6666666666666666,\"#ed7953\"],[0.7777777777777778,\"#fb9f3a\"],[0.8888888888888888,\"#fdca26\"],[1.0,\"#f0f921\"]],\"diverging\":[[0,\"#8e0152\"],[0.1,\"#c51b7d\"],[0.2,\"#de77ae\"],[0.3,\"#f1b6da\"],[0.4,\"#fde0ef\"],[0.5,\"#f7f7f7\"],[0.6,\"#e6f5d0\"],[0.7,\"#b8e186\"],[0.8,\"#7fbc41\"],[0.9,\"#4d9221\"],[1,\"#276419\"]]},\"xaxis\":{\"gridcolor\":\"white\",\"linecolor\":\"white\",\"ticks\":\"\",\"title\":{\"standoff\":15},\"zerolinecolor\":\"white\",\"automargin\":true,\"zerolinewidth\":2},\"yaxis\":{\"gridcolor\":\"white\",\"linecolor\":\"white\",\"ticks\":\"\",\"title\":{\"standoff\":15},\"zerolinecolor\":\"white\",\"automargin\":true,\"zerolinewidth\":2},\"scene\":{\"xaxis\":{\"backgroundcolor\":\"#E5ECF6\",\"gridcolor\":\"white\",\"linecolor\":\"white\",\"showbackground\":true,\"ticks\":\"\",\"zerolinecolor\":\"white\",\"gridwidth\":2},\"yaxis\":{\"backgroundcolor\":\"#E5ECF6\",\"gridcolor\":\"white\",\"linecolor\":\"white\",\"showbackground\":true,\"ticks\":\"\",\"zerolinecolor\":\"white\",\"gridwidth\":2},\"zaxis\":{\"backgroundcolor\":\"#E5ECF6\",\"gridcolor\":\"white\",\"linecolor\":\"white\",\"showbackground\":true,\"ticks\":\"\",\"zerolinecolor\":\"white\",\"gridwidth\":2}},\"shapedefaults\":{\"line\":{\"color\":\"#2a3f5f\"}},\"annotationdefaults\":{\"arrowcolor\":\"#2a3f5f\",\"arrowhead\":0,\"arrowwidth\":1},\"geo\":{\"bgcolor\":\"white\",\"landcolor\":\"#E5ECF6\",\"subunitcolor\":\"white\",\"showland\":true,\"showlakes\":true,\"lakecolor\":\"white\"},\"title\":{\"x\":0.05},\"mapbox\":{\"style\":\"light\"}}},\"xaxis\":{\"anchor\":\"y\",\"domain\":[0.0,1.0],\"title\":{\"text\":\"2022 Pitching+\"}},\"yaxis\":{\"anchor\":\"x\",\"domain\":[0.0,1.0],\"title\":{\"text\":\"2023 ERA\"}},\"legend\":{\"tracegroupgap\":0},\"title\":{\"text\":\"Scatter Plot with Linear Regression (R = 0.400)\"},\"hovermode\":\"closest\"},                        {\"responsive\": true}                    ).then(function(){\n",
       "                            \n",
       "var gd = document.getElementById('117111a0-99fc-42ff-afbd-ca269ba11459');\n",
       "var x = new MutationObserver(function (mutations, observer) {{\n",
       "        var display = window.getComputedStyle(gd).display;\n",
       "        if (!display || display === 'none') {{\n",
       "            console.log([gd, 'removed!']);\n",
       "            Plotly.purge(gd);\n",
       "            observer.disconnect();\n",
       "        }}\n",
       "}});\n",
       "\n",
       "// Listen for the removal of the full notebook cells\n",
       "var notebookContainer = gd.closest('#notebook-container');\n",
       "if (notebookContainer) {{\n",
       "    x.observe(notebookContainer, {childList: true});\n",
       "}}\n",
       "\n",
       "// Listen for the clearing of the current output cell\n",
       "var outputEl = gd.closest('.output');\n",
       "if (outputEl) {{\n",
       "    x.observe(outputEl, {childList: true});\n",
       "}}\n",
       "\n",
       "                        })                };                });            </script>        </div>"
      ]
     },
     "metadata": {},
     "output_type": "display_data"
    }
   ],
   "source": [
    "import numpy as np\n",
    "import plotly.express as px\n",
    "import plotly.graph_objects as go\n",
    "\n",
    "# Calculate R2\n",
    "correlation_coefficient  = np.abs(np.corrcoef(df['Pitching+'], df['2023_ERA'])[0, 1])\n",
    "\n",
    "# Create scatter plot\n",
    "fig = px.scatter(df, x='Pitching+', y='2023_ERA', title=f'Scatter Plot with Linear Regression (R2={r_squared:.2f})',\n",
    "                 labels={'Pitching+': '2022 Pitching+', '2023_ERA': '2023 ERA'},\n",
    "                 hover_data=['player_name'])\n",
    "\n",
    "# Add linear regression line\n",
    "fig.add_trace(go.Scatter(x=df['Pitching+'], y=np.polyval(np.polyfit(df['Pitching+'], df['2023_ERA'],1), df['Pitching+']),\n",
    "                         mode='lines', name='Linear Regression'))\n",
    "\n",
    "fig.update_layout(title_text=f'Scatter Plot with Linear Regression (R = {correlation_coefficient:.3f})',\n",
    "                  xaxis_title='2022 Pitching+',\n",
    "                  yaxis_title='2023 ERA',\n",
    "                  hovermode='closest')\n",
    "\n",
    "fig.show()"
   ]
  }
 ],
 "metadata": {
  "kernelspec": {
   "display_name": "Python 3 (ipykernel)",
   "language": "python",
   "name": "python3"
  },
  "language_info": {
   "codemirror_mode": {
    "name": "ipython",
    "version": 3
   },
   "file_extension": ".py",
   "mimetype": "text/x-python",
   "name": "python",
   "nbconvert_exporter": "python",
   "pygments_lexer": "ipython3",
   "version": "3.9.16"
  }
 },
 "nbformat": 4,
 "nbformat_minor": 5
}
